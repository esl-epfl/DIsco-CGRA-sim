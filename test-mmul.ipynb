{
 "cells": [
  {
   "cell_type": "code",
   "execution_count": null,
   "metadata": {},
   "outputs": [],
   "source": [
    "# Imports\n",
    "import pandas as pd\n",
    "from random import randint\n",
    "from src import *\n",
    "from src.simulator import SIMULATOR"
   ]
  },
  {
   "cell_type": "code",
   "execution_count": null,
   "metadata": {},
   "outputs": [],
   "source": [
    "sim = SIMULATOR()\n",
    "\n",
    "# --------------------------------------------\n",
    "#               KERNEL CONFIGURATION\n",
    "# --------------------------------------------\n",
    "kernel_path = './kernels/mmul/'\n",
    "kernel_number = 1 \n",
    "column_usage = [True, False] \n",
    "nInstrPerCol = 11 \n",
    "imem_add_start = 0 \n",
    "srf_spm_addres = 0 \n",
    "version=\"\"\n",
    "\n",
    "sim.kernel_config(column_usage, nInstrPerCol, imem_add_start, srf_spm_addres, kernel_number)"
   ]
  },
  {
   "cell_type": "code",
   "execution_count": null,
   "metadata": {},
   "outputs": [],
   "source": [
    "# --------------------------------------------\n",
    "#                LOAD SPM DATA\n",
    "# --------------------------------------------\n",
    "# SPM[0] = SRF (zeros)\n",
    "# SPM[1] -- SPM[32] = B_block_special (duplicated the cols for each RC)\n",
    "# SPM[33] = C_block (zeros)\n",
    "# SPM[34] = A_block\n",
    "# --------------------------------------------\n",
    "# Matrix A: 4x32 (nRCs x nElemsSlice)     -> SPM[2]\n",
    "# Matrix C: 4x32 (nRowsA x nElemsSlice)   -> SPM[1]\n",
    "# Matrix B: 32x32 (nColsA x nColsC)       -> SPM[3], ... , SPM[34] \n",
    "# --------------------------------------------\n",
    "# SRF[0] = Number of cols on the A block (= nColsA -1 = 31)\n",
    "# SRF[1] = Number of elements of C on each RC slice (= nElemsOfCPerRC -1 = 31)\n",
    "# SRF[2] = Line of the SPM where the block of C is stored (= 33)\n",
    "# --------------------------------------------\n",
    "\n",
    "# Defs\n",
    "nRowsA = 4\n",
    "nColsA = 32\n",
    "nColsB = 32\n",
    "nRCs = 4\n",
    "srf_spm_line = 0\n",
    "c_spm_line = 33\n",
    "a_spm_line = c_spm_line + 1\n",
    "b_spm_first_line = 1\n",
    "\n",
    "# Load SRF\n",
    "srf = [0 for i in range(SPM_NWORDS)]\n",
    "srf[0] = nColsA -1 # Last index of the number of cols on the A block\n",
    "nColsC = nColsB\n",
    "nElemsOfCPerRC = nColsC\n",
    "last_idx_rc_slice = nElemsOfCPerRC -1\n",
    "srf[1] = last_idx_rc_slice # Last index of the number of elements of C on each RC slice\n",
    "srf[2] = 33 # Line of the SPM where the block of C is stored\n",
    "sim.setSPMLine(srf_spm_line, srf.copy())\n",
    "\n",
    "# Load matrix C\n",
    "vector_C = [0 for i in range(SPM_NWORDS)]\n",
    "sim.setSPMLine(c_spm_line, vector_C.copy())\n",
    "\n",
    "# Load matrix A\n",
    "# matrix_A = np.random.randint(1, 15, size=(nRowsA, nColsA))\n",
    "# vector_A = matrix_A.flatten()\n",
    "A = [1,2]\n",
    "vector_A = [A[i%2] for i in range(nRowsA*nColsA)]\n",
    "sim.setSPMLine(a_spm_line, vector_A.copy())\n",
    "\n",
    "# Load matrix B\n",
    "matrix_B = np.random.randint(1, 3, size=(nColsA, nColsB))\n",
    "b_spm_line = b_spm_first_line\n",
    "for col in range(nColsB):\n",
    "    vector_aux = []\n",
    "    vector_aux = np.tile(matrix_B[:,col], 4)\n",
    "    sim.setSPMLine(b_spm_line, vector_aux.copy())\n",
    "    b_spm_line+=1\n",
    "\n",
    "sim.displaySPMLine(0)\n",
    "sim.displaySPMLine(1)\n",
    "sim.displaySPMLine(33)\n",
    "sim.displaySPMLine(34)"
   ]
  },
  {
   "cell_type": "code",
   "execution_count": null,
   "metadata": {},
   "outputs": [],
   "source": [
    "# --------------------------------------------\n",
    "#              COMPILE ASM TO HEX\n",
    "# --------------------------------------------\n",
    "sim.compileAsmToHex(kernel_path, kernel_number, version=version)"
   ]
  },
  {
   "cell_type": "markdown",
   "metadata": {},
   "source": [
    "Finally, we load the kernel into the internal memory of the specialized units and run it."
   ]
  },
  {
   "cell_type": "code",
   "execution_count": null,
   "metadata": {},
   "outputs": [],
   "source": [
    "# --------------------------------------------\n",
    "#                 LOAD KERNEL\n",
    "# --------------------------------------------\n",
    "\n",
    "# This needs the hex instructions, if you don't provide them, generate then compiling the asm\n",
    "sim.kernel_load(kernel_path, version=version + \"_autogen\", kernel_number=kernel_number)\n",
    "\n",
    "# --------------------------------------------\n",
    "#               SIMULATE EXECUTION\n",
    "# --------------------------------------------\n",
    "show_lcu = []\n",
    "show_srf = []\n",
    "show_lsu = []\n",
    "show_rcs = [[],[],[],[]]\n",
    "show_mxcu = []\n",
    "display_ops = [show_lcu, show_lsu, show_mxcu, show_rcs, show_srf]\n",
    "\n",
    "sim.run(kernel_number, display_ops=display_ops)"
   ]
  },
  {
   "cell_type": "markdown",
   "metadata": {},
   "source": [
    "We can check it more rigorously. We can define our function in python and check that the output matches the CGRA output."
   ]
  },
  {
   "cell_type": "code",
   "execution_count": null,
   "metadata": {},
   "outputs": [],
   "source": [
    "def mmul (in_A, in_B, nRowsA, nColsA, nColsB, out):\n",
    "    for i in range(nRowsA):\n",
    "        for j in range(nColsB):\n",
    "            sum = 0\n",
    "            for k in range(nColsA):\n",
    "                #print(f\"i: {i}, j: {j}, k: {k}\")\n",
    "                sum += in_A[i*nColsA + k] * in_B[k*nColsB + j]\n",
    "            out[i*nColsB + j] = sum"
   ]
  },
  {
   "cell_type": "code",
   "execution_count": null,
   "metadata": {},
   "outputs": [],
   "source": [
    "disco_cgra_res = sim.getSPMLine(c_spm_line)\n",
    "errors_idx = []\n",
    "expected_output = [0 for i in range(nRowsA*nColsB)]\n",
    "mmul(vector_A, matrix_B.flatten(), nRowsA, nColsA, nColsB, expected_output)\n",
    "for i in range(len(expected_output)):\n",
    "    if expected_output[i] != disco_cgra_res[i]:\n",
    "        errors_idx.append(i)\n",
    "if len(errors_idx) == 0:\n",
    "    print(\"The result is correct!\")\n",
    "else:\n",
    "    print(\"Oops, something went wrong. There are \" + str(len(errors_idx)) + \" errors.\")\n",
    "    print(errors_idx)\n",
    "    print(\"DISCO-CGRA result:\")\n",
    "    sim.displaySPMLine(c_spm_line)\n",
    "    print(\"Expected result:\")\n",
    "    print(expected_output)"
   ]
  }
 ],
 "metadata": {
  "kernelspec": {
   "display_name": "base",
   "language": "python",
   "name": "python3"
  },
  "language_info": {
   "codemirror_mode": {
    "name": "ipython",
    "version": 3
   },
   "file_extension": ".py",
   "mimetype": "text/x-python",
   "name": "python",
   "nbconvert_exporter": "python",
   "pygments_lexer": "ipython3",
   "version": "3.11.4"
  }
 },
 "nbformat": 4,
 "nbformat_minor": 2
}
