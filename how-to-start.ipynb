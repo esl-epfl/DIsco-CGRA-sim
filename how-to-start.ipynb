{
 "cells": [
  {
   "cell_type": "markdown",
   "metadata": {},
   "source": [
    "# VWR2A Simulator\n",
    "This notebook illustrates how to use the simulator both for decoding existing hexadecimal VWR2A kernels to assembly, as well as writing your own kernels by writting your own assembly and generating it's bitstream. At the end, we develop a working kernel that adds two vectors together."
   ]
  },
  {
   "cell_type": "code",
   "execution_count": 6,
   "metadata": {},
   "outputs": [],
   "source": [
    "# Imports\n",
    "import pandas as pd\n",
    "from random import randint\n",
    "from src import *\n",
    "from src.simulator import SIMULATOR"
   ]
  },
  {
   "cell_type": "markdown",
   "metadata": {},
   "source": [
    "## ISAs for specialized slots\n",
    "First, we set up objects for each specialized slot of the VWR2A (i.e. Load Store Unit, Reconfigurable Cells, etc.) and show some examples. For detailed descriptions of the assembly ISA ot the hexadecimal underlying, please visit the docs section."
   ]
  },
  {
   "cell_type": "markdown",
   "metadata": {},
   "source": [
    "### Loop Control Unit\n",
    "This unit is prepared to control the loops of the code."
   ]
  },
  {
   "cell_type": "code",
   "execution_count": 7,
   "metadata": {},
   "outputs": [
    {
     "name": "stdout",
     "output_type": "stream",
     "text": [
      "ASM : NOP --> Hex: 0x0\n",
      "ASM : EXIT --> Hex: 0x1c00\n",
      "ASM : SADD R1, ZERO, LAST --> Hex: 0xd4340\n",
      "ASM : SADD R1, SRF(3), LAST --> Hex: 0x94340\n",
      "ASM : SADD R1, 7, ONE --> Hex: 0xfc347\n",
      "ASM : SSUB SRF(4), SRF(4), SRF(4) --> Hex: 0x90400\n",
      "ASM : JUMP 7, ONE --> Hex: 0xfda07\n",
      "ASM : BGEPD ZERO, ONE, 5 --> Hex: 0xdd605\n"
     ]
    }
   ],
   "source": [
    "# --------------------------------------------\n",
    "#         Loop Control Unit (LCU)\n",
    "# --------------------------------------------\n",
    "lcu = LCU()\n",
    "\n",
    "instr_list = [\"NOP\", \"EXIT\", \"SADD R1, ZERO, LAST\", \"SADD R1, SRF(3), LAST\", \"SADD R1, 7, ONE\", \"SSUB SRF(4), SRF(4), SRF(4)\", \"JUMP 7, ONE\", \"BGEPD ZERO, ONE, 5\"]\n",
    "\n",
    "for instr in instr_list:\n",
    "    _, _, imem_word = lcu.asmToHex(instr)\n",
    "    print(\"ASM : \" + instr + \" --> Hex: \" + imem_word.get_word_in_hex())"
   ]
  },
  {
   "cell_type": "markdown",
   "metadata": {},
   "source": [
    "### Load-Store Unit\n",
    "This unit is prepared to control the movement of data between the SPM and the VWRs."
   ]
  },
  {
   "cell_type": "code",
   "execution_count": 8,
   "metadata": {},
   "outputs": [
    {
     "name": "stdout",
     "output_type": "stream",
     "text": [
      "ASM : SADD R0, ONE, ONE/LD.VWR VWR_A --> Hex: 0x45538\n",
      "ASM : SADD R0, SRF(5), ONE/SH.IL.UP --> Hex: 0xc4538\n",
      "ASM : SADD SRF(5), SRF(5), ONE/LD.VWR SRF --> Hex: 0x5c530\n"
     ]
    }
   ],
   "source": [
    "# --------------------------------------------\n",
    "#             Load- Store Unit (LCU)\n",
    "# --------------------------------------------\n",
    "lsu = LSU()\n",
    "\n",
    "instr_list = [\"SADD R0, ONE, ONE/LD.VWR VWR_A\", \"SADD R0, SRF(5), ONE/SH.IL.UP\", \"SADD SRF(5), SRF(5), ONE/LD.VWR SRF\"]\n",
    "\n",
    "for instr in instr_list:\n",
    "    _, _, imem_word = lsu.asmToHex(instr)\n",
    "    print(\"ASM : \" + instr + \" --> Hex: \" + imem_word.get_word_in_hex())"
   ]
  },
  {
   "cell_type": "markdown",
   "metadata": {},
   "source": [
    "### Reconfigurable Cells\n",
    "This units are prepared to make the computations as an ALU would do on a CPU."
   ]
  },
  {
   "cell_type": "code",
   "execution_count": 9,
   "metadata": {},
   "outputs": [
    {
     "name": "stdout",
     "output_type": "stream",
     "text": [
      "ASM : NOP --> Hex: 0x0\n",
      "ASM : SADD VWR_A, VWR_A, VWR_B --> Hex: 0x420\n",
      "ASM : SADD VWR_A, SRF(3), VWR_B --> Hex: 0xc420\n",
      "ASM : LOR R0, RCB, MIN_INT --> Hex: 0x1f522\n",
      "ASM : MUL.FXP R0, RCB, MIN_INT --> Hex: 0x1f5a2\n"
     ]
    }
   ],
   "source": [
    "# --------------------------------------------\n",
    "#         Reconfigurable Cells (RCs)\n",
    "# --------------------------------------------\n",
    "rc = RC()\n",
    "\n",
    "instr_list = [\"NOP\", \"SADD VWR_A, VWR_A, VWR_B\", \"SADD VWR_A, SRF(3), VWR_B\", \"LOR R0, RCB, MIN_INT\", \"MUL.FXP R0, RCB, MIN_INT\"]\n",
    "\n",
    "for instr in instr_list:\n",
    "    _, _, _, imem_word = rc.asmToHex(instr)\n",
    "    print(\"ASM : \" + instr + \" --> Hex: \" + imem_word.get_word_in_hex())"
   ]
  },
  {
   "cell_type": "markdown",
   "metadata": {},
   "source": [
    "### Multiplexer Control Unit\n",
    "This unit is prepared to take care of all the indexes of the SRF and VWR that are accesed for loads or stores."
   ]
  },
  {
   "cell_type": "code",
   "execution_count": 10,
   "metadata": {},
   "outputs": [
    {
     "name": "stdout",
     "output_type": "stream",
     "text": [
      "ASM : NOP --> Hex: 0x0\n",
      "ASM : SADD R1, ONE, LAST --> Hex: 0x5699000\n",
      "ASM : LOR R1, ONE, SRF(3) --> Hex: 0x54690c0\n"
     ]
    }
   ],
   "source": [
    "# --------------------------------------------\n",
    "#      Multiplexer Control Unit (MXCU)\n",
    "# --------------------------------------------\n",
    "mxcu = MXCU()\n",
    "\n",
    "instr_list = [\"NOP\", \"SADD R1, ONE, LAST\", \"LOR R1, ONE, SRF(3)\"]\n",
    "\n",
    "for instr in instr_list:\n",
    "    imem_word = mxcu.asmToHex(instr, -1, 0, 0, [0,0,0,0], 0)\n",
    "    print(\"ASM : \" + instr + \" --> Hex: \" + imem_word.get_word_in_hex())"
   ]
  },
  {
   "cell_type": "markdown",
   "metadata": {},
   "source": [
    "## App Example\n",
    "Now, let's see an example of a real program that adds two vectors.\n",
    "For adding two vectors, you just need to add each element one by one until the end.\n",
    "Let's assume the vectors have 128 elements, so they fit in one line of the SPM.\n",
    "First, we store the values on the SPM."
   ]
  },
  {
   "cell_type": "markdown",
   "metadata": {},
   "source": [
    "## Generating code for kernels\n",
    "\n",
    "### Process an existing kernel\n",
    "\n",
    "Load an existing kernel (in the form of an excel sheet where each row is a clock cycle and each column is a specialized slot) and use the simulator to understand what is going on in each element at a given clock cycle. "
   ]
  },
  {
   "cell_type": "code",
   "execution_count": 11,
   "metadata": {},
   "outputs": [
    {
     "name": "stdout",
     "output_type": "stream",
     "text": [
      "The instruction memory has 512 entries.\n"
     ]
    },
    {
     "data": {
      "text/html": [
       "<div>\n",
       "<style scoped>\n",
       "    .dataframe tbody tr th:only-of-type {\n",
       "        vertical-align: middle;\n",
       "    }\n",
       "\n",
       "    .dataframe tbody tr th {\n",
       "        vertical-align: top;\n",
       "    }\n",
       "\n",
       "    .dataframe thead th {\n",
       "        text-align: right;\n",
       "    }\n",
       "</style>\n",
       "<table border=\"1\" class=\"dataframe\">\n",
       "  <thead>\n",
       "    <tr style=\"text-align: right;\">\n",
       "      <th></th>\n",
       "      <th>LCU</th>\n",
       "      <th>LSU</th>\n",
       "      <th>MXCU</th>\n",
       "      <th>RC0</th>\n",
       "      <th>RC1</th>\n",
       "      <th>RC2</th>\n",
       "      <th>RC3</th>\n",
       "      <th>KMEM</th>\n",
       "    </tr>\n",
       "  </thead>\n",
       "  <tbody>\n",
       "    <tr>\n",
       "      <th>0</th>\n",
       "      <td>0x0</td>\n",
       "      <td>0x5c49f</td>\n",
       "      <td>0x0</td>\n",
       "      <td>0x0</td>\n",
       "      <td>0x0</td>\n",
       "      <td>0x0</td>\n",
       "      <td>0x0</td>\n",
       "      <td>0x0</td>\n",
       "    </tr>\n",
       "    <tr>\n",
       "      <th>1</th>\n",
       "      <td>0x9c500</td>\n",
       "      <td>0x43d3f</td>\n",
       "      <td>0x180</td>\n",
       "      <td>0x0</td>\n",
       "      <td>0x0</td>\n",
       "      <td>0x0</td>\n",
       "      <td>0x0</td>\n",
       "      <td>0x802b</td>\n",
       "    </tr>\n",
       "    <tr>\n",
       "      <th>2</th>\n",
       "      <td>0x98fc0</td>\n",
       "      <td>0x4bd3f</td>\n",
       "      <td>0x40</td>\n",
       "      <td>0x0</td>\n",
       "      <td>0x0</td>\n",
       "      <td>0x0</td>\n",
       "      <td>0x0</td>\n",
       "      <td>0x0</td>\n",
       "    </tr>\n",
       "    <tr>\n",
       "      <th>3</th>\n",
       "      <td>0xf8f43</td>\n",
       "      <td>0x53c98</td>\n",
       "      <td>0x0</td>\n",
       "      <td>0x0</td>\n",
       "      <td>0x0</td>\n",
       "      <td>0x0</td>\n",
       "      <td>0x0</td>\n",
       "      <td>0x0</td>\n",
       "    </tr>\n",
       "    <tr>\n",
       "      <th>4</th>\n",
       "      <td>0xb8f80</td>\n",
       "      <td>0x539</td>\n",
       "      <td>0x4ce9000</td>\n",
       "      <td>0x0</td>\n",
       "      <td>0x0</td>\n",
       "      <td>0x0</td>\n",
       "      <td>0x0</td>\n",
       "      <td>0x0</td>\n",
       "    </tr>\n",
       "  </tbody>\n",
       "</table>\n",
       "</div>"
      ],
      "text/plain": [
       "       LCU      LSU       MXCU  RC0  RC1  RC2  RC3    KMEM\n",
       "0      0x0  0x5c49f        0x0  0x0  0x0  0x0  0x0     0x0\n",
       "1  0x9c500  0x43d3f      0x180  0x0  0x0  0x0  0x0  0x802b\n",
       "2  0x98fc0  0x4bd3f       0x40  0x0  0x0  0x0  0x0     0x0\n",
       "3  0xf8f43  0x53c98        0x0  0x0  0x0  0x0  0x0     0x0\n",
       "4  0xb8f80    0x539  0x4ce9000  0x0  0x0  0x0  0x0     0x0"
      ]
     },
     "execution_count": 11,
     "metadata": {},
     "output_type": "execute_result"
    }
   ],
   "source": [
    "kernel_path = \"kernels/mf_q64_erosion/\"\n",
    "df = pd.read_csv(kernel_path + \"instructions_hex.csv\")\n",
    "print(\"The instruction memory has {0} entries.\".format(len(df)))\n",
    "df.head()"
   ]
  },
  {
   "cell_type": "markdown",
   "metadata": {},
   "source": [
    "Let's generate the assembly for this hexadecimal instructions so we understand better what is going on."
   ]
  },
  {
   "cell_type": "code",
   "execution_count": 12,
   "metadata": {},
   "outputs": [
    {
     "name": "stdout",
     "output_type": "stream",
     "text": [
      "Hex to ASM\n",
      "Processing file: kernels/mf_q64_erosion/instructions_hex.csv...\n",
      "Creating file: kernels/mf_q64_erosion/instructions_asm.csv\n"
     ]
    }
   ],
   "source": [
    "sim = SIMULATOR()\n",
    "sim.compileHexToAsm(kernel_path)"
   ]
  },
  {
   "cell_type": "code",
   "execution_count": 13,
   "metadata": {},
   "outputs": [
    {
     "name": "stdout",
     "output_type": "stream",
     "text": [
      "The instruction memory has 512 entries.\n"
     ]
    },
    {
     "data": {
      "text/html": [
       "<div>\n",
       "<style scoped>\n",
       "    .dataframe tbody tr th:only-of-type {\n",
       "        vertical-align: middle;\n",
       "    }\n",
       "\n",
       "    .dataframe tbody tr th {\n",
       "        vertical-align: top;\n",
       "    }\n",
       "\n",
       "    .dataframe thead th {\n",
       "        text-align: right;\n",
       "    }\n",
       "</style>\n",
       "<table border=\"1\" class=\"dataframe\">\n",
       "  <thead>\n",
       "    <tr style=\"text-align: right;\">\n",
       "      <th></th>\n",
       "      <th>LCU</th>\n",
       "      <th>LSU</th>\n",
       "      <th>MXCU</th>\n",
       "      <th>RC0</th>\n",
       "      <th>RC1</th>\n",
       "      <th>RC2</th>\n",
       "      <th>RC3</th>\n",
       "    </tr>\n",
       "  </thead>\n",
       "  <tbody>\n",
       "    <tr>\n",
       "      <th>0</th>\n",
       "      <td>NOP</td>\n",
       "      <td>LOR R7, SRF(0), ZERO/LD.VWR SRF</td>\n",
       "      <td>NOP</td>\n",
       "      <td>NOP</td>\n",
       "      <td>NOP</td>\n",
       "      <td>NOP</td>\n",
       "      <td>NOP</td>\n",
       "    </tr>\n",
       "    <tr>\n",
       "      <th>1</th>\n",
       "      <td>SSUB R0, SRF(6), ONE</td>\n",
       "      <td>SADD R7, R7, ONE/LD.VWR VWR_A</td>\n",
       "      <td>NOP</td>\n",
       "      <td>NOP</td>\n",
       "      <td>NOP</td>\n",
       "      <td>NOP</td>\n",
       "      <td>NOP</td>\n",
       "    </tr>\n",
       "    <tr>\n",
       "      <th>2</th>\n",
       "      <td>LOR R3, SRF(1), ZERO</td>\n",
       "      <td>SADD R7, R7, ONE/LD.VWR VWR_B</td>\n",
       "      <td>NOP</td>\n",
       "      <td>NOP</td>\n",
       "      <td>NOP</td>\n",
       "      <td>NOP</td>\n",
       "      <td>NOP</td>\n",
       "    </tr>\n",
       "    <tr>\n",
       "      <th>3</th>\n",
       "      <td>LOR R1, 3, ZERO</td>\n",
       "      <td>LOR R0, R7, ZERO/LD.VWR VWR_C</td>\n",
       "      <td>NOP</td>\n",
       "      <td>NOP</td>\n",
       "      <td>NOP</td>\n",
       "      <td>NOP</td>\n",
       "      <td>NOP</td>\n",
       "    </tr>\n",
       "    <tr>\n",
       "      <th>4</th>\n",
       "      <td>LOR R2, LAST, ZERO</td>\n",
       "      <td>SADD R1, R0, ONE/NOP</td>\n",
       "      <td>LOR R1, ZERO, ZERO</td>\n",
       "      <td>NOP</td>\n",
       "      <td>NOP</td>\n",
       "      <td>NOP</td>\n",
       "      <td>NOP</td>\n",
       "    </tr>\n",
       "  </tbody>\n",
       "</table>\n",
       "</div>"
      ],
      "text/plain": [
       "                    LCU                              LSU                MXCU  \\\n",
       "0                   NOP  LOR R7, SRF(0), ZERO/LD.VWR SRF                 NOP   \n",
       "1  SSUB R0, SRF(6), ONE    SADD R7, R7, ONE/LD.VWR VWR_A                 NOP   \n",
       "2  LOR R3, SRF(1), ZERO    SADD R7, R7, ONE/LD.VWR VWR_B                 NOP   \n",
       "3       LOR R1, 3, ZERO    LOR R0, R7, ZERO/LD.VWR VWR_C                 NOP   \n",
       "4    LOR R2, LAST, ZERO             SADD R1, R0, ONE/NOP  LOR R1, ZERO, ZERO   \n",
       "\n",
       "   RC0  RC1  RC2  RC3  \n",
       "0  NOP  NOP  NOP  NOP  \n",
       "1  NOP  NOP  NOP  NOP  \n",
       "2  NOP  NOP  NOP  NOP  \n",
       "3  NOP  NOP  NOP  NOP  \n",
       "4  NOP  NOP  NOP  NOP  "
      ]
     },
     "execution_count": 13,
     "metadata": {},
     "output_type": "execute_result"
    }
   ],
   "source": [
    "df = pd.read_csv(kernel_path + \"instructions_asm.csv\")\n",
    "print(\"The instruction memory has {0} entries.\".format(len(df)))\n",
    "df.head()"
   ]
  },
  {
   "cell_type": "markdown",
   "metadata": {},
   "source": [
    "For example, let's make sure that the last instruction of the LCU is an EXIT. For this we need to know some information about the kernel. In the hexadecimal it is provided as the KMEM column. And we also extract the kernel_number from which line has the instruction."
   ]
  },
  {
   "cell_type": "code",
   "execution_count": 14,
   "metadata": {},
   "outputs": [
    {
     "name": "stdout",
     "output_type": "stream",
     "text": [
      "Last instruction for LCU is: EXIT\n"
     ]
    }
   ],
   "source": [
    "kernel_number = 1 # Asign a number for the kernel (coherent with the KMEM)\n",
    "hex_word = \"0x802b\"\n",
    "nInstr, _, _, _ = KMEM_WORD(hex_word=hex_word).decode_word()\n",
    "print(\"Last instruction for LCU is: \" + df.iloc[nInstr]['LCU'])"
   ]
  },
  {
   "cell_type": "markdown",
   "metadata": {},
   "source": [
    "## Load a kernel\n",
    "\n",
    "To load a kernel into the IMEM of the VWR2A we need to know some info about it.\n",
    " - The kernel number\n",
    " - How many and which columns it uses\n",
    " - How many instructions per column it has\n",
    " - The position where it starts in the IMEM\n",
    " - The postition in the SPM where the SRF initial values are"
   ]
  },
  {
   "cell_type": "code",
   "execution_count": 15,
   "metadata": {},
   "outputs": [],
   "source": [
    "kernel_path = \"kernels/add_vectors/\"\n",
    "kernel_number = 1 # Kernel number (from 1 to 15)\n",
    "column_usage = [True, False] # Columns to use\n",
    "nInstrPerCol = 37 # Number of instructions per column\n",
    "imem_add_start = 0 # Start address on imem for this kernel\n",
    "srf_spm_addres = 0 # Line of the SPM with the initial data for the SRF\n",
    "\n",
    "sim = SIMULATOR()\n",
    "sim.kernel_config(column_usage, nInstrPerCol, imem_add_start, srf_spm_addres, kernel_number)"
   ]
  },
  {
   "cell_type": "markdown",
   "metadata": {},
   "source": [
    "Now, let's generate assembly for it so we clearly see the adds."
   ]
  },
  {
   "cell_type": "code",
   "execution_count": 16,
   "metadata": {},
   "outputs": [
    {
     "name": "stdout",
     "output_type": "stream",
     "text": [
      "Hex to ASM\n",
      "Processing file: kernels/add_vectors/instructions_hex.csv...\n",
      "Creating file: kernels/add_vectors/instructions_asm.csv\n",
      "The instruction memory has 512 entries.\n"
     ]
    },
    {
     "data": {
      "text/html": [
       "<div>\n",
       "<style scoped>\n",
       "    .dataframe tbody tr th:only-of-type {\n",
       "        vertical-align: middle;\n",
       "    }\n",
       "\n",
       "    .dataframe tbody tr th {\n",
       "        vertical-align: top;\n",
       "    }\n",
       "\n",
       "    .dataframe thead th {\n",
       "        text-align: right;\n",
       "    }\n",
       "</style>\n",
       "<table border=\"1\" class=\"dataframe\">\n",
       "  <thead>\n",
       "    <tr style=\"text-align: right;\">\n",
       "      <th></th>\n",
       "      <th>LCU</th>\n",
       "      <th>LSU</th>\n",
       "      <th>MXCU</th>\n",
       "      <th>RC0</th>\n",
       "      <th>RC1</th>\n",
       "      <th>RC2</th>\n",
       "      <th>RC3</th>\n",
       "    </tr>\n",
       "  </thead>\n",
       "  <tbody>\n",
       "    <tr>\n",
       "      <th>0</th>\n",
       "      <td>NOP</td>\n",
       "      <td>LOR R7, ONE, ZERO/LD.VWR SRF</td>\n",
       "      <td>NOP</td>\n",
       "      <td>NOP</td>\n",
       "      <td>NOP</td>\n",
       "      <td>NOP</td>\n",
       "      <td>NOP</td>\n",
       "    </tr>\n",
       "    <tr>\n",
       "      <th>1</th>\n",
       "      <td>NOP</td>\n",
       "      <td>SADD R7, ONE, R7/LD.VWR VWR_A</td>\n",
       "      <td>NOP</td>\n",
       "      <td>NOP</td>\n",
       "      <td>NOP</td>\n",
       "      <td>NOP</td>\n",
       "      <td>NOP</td>\n",
       "    </tr>\n",
       "    <tr>\n",
       "      <th>2</th>\n",
       "      <td>NOP</td>\n",
       "      <td>SADD R7, ONE, R7/LD.VWR VWR_B</td>\n",
       "      <td>LOR R0, ZERO, ZERO</td>\n",
       "      <td>NOP</td>\n",
       "      <td>NOP</td>\n",
       "      <td>NOP</td>\n",
       "      <td>NOP</td>\n",
       "    </tr>\n",
       "    <tr>\n",
       "      <th>3</th>\n",
       "      <td>NOP</td>\n",
       "      <td>NOP/NOP</td>\n",
       "      <td>SADD R0, ONE, R0</td>\n",
       "      <td>SADD VWR_C, VWR_A, VWR_B</td>\n",
       "      <td>SADD VWR_C, VWR_A, VWR_B</td>\n",
       "      <td>SADD VWR_C, VWR_A, VWR_B</td>\n",
       "      <td>SADD VWR_C, VWR_A, VWR_B</td>\n",
       "    </tr>\n",
       "    <tr>\n",
       "      <th>4</th>\n",
       "      <td>NOP</td>\n",
       "      <td>NOP/NOP</td>\n",
       "      <td>SADD R0, ONE, R0</td>\n",
       "      <td>SADD VWR_C, VWR_A, VWR_B</td>\n",
       "      <td>SADD VWR_C, VWR_A, VWR_B</td>\n",
       "      <td>SADD VWR_C, VWR_A, VWR_B</td>\n",
       "      <td>SADD VWR_C, VWR_A, VWR_B</td>\n",
       "    </tr>\n",
       "    <tr>\n",
       "      <th>5</th>\n",
       "      <td>NOP</td>\n",
       "      <td>NOP/NOP</td>\n",
       "      <td>SADD R0, ONE, R0</td>\n",
       "      <td>SADD VWR_C, VWR_A, VWR_B</td>\n",
       "      <td>SADD VWR_C, VWR_A, VWR_B</td>\n",
       "      <td>SADD VWR_C, VWR_A, VWR_B</td>\n",
       "      <td>SADD VWR_C, VWR_A, VWR_B</td>\n",
       "    </tr>\n",
       "    <tr>\n",
       "      <th>6</th>\n",
       "      <td>NOP</td>\n",
       "      <td>NOP/NOP</td>\n",
       "      <td>SADD R0, ONE, R0</td>\n",
       "      <td>SADD VWR_C, VWR_A, VWR_B</td>\n",
       "      <td>SADD VWR_C, VWR_A, VWR_B</td>\n",
       "      <td>SADD VWR_C, VWR_A, VWR_B</td>\n",
       "      <td>SADD VWR_C, VWR_A, VWR_B</td>\n",
       "    </tr>\n",
       "    <tr>\n",
       "      <th>7</th>\n",
       "      <td>NOP</td>\n",
       "      <td>NOP/NOP</td>\n",
       "      <td>SADD R0, ONE, R0</td>\n",
       "      <td>SADD VWR_C, VWR_A, VWR_B</td>\n",
       "      <td>SADD VWR_C, VWR_A, VWR_B</td>\n",
       "      <td>SADD VWR_C, VWR_A, VWR_B</td>\n",
       "      <td>SADD VWR_C, VWR_A, VWR_B</td>\n",
       "    </tr>\n",
       "    <tr>\n",
       "      <th>8</th>\n",
       "      <td>NOP</td>\n",
       "      <td>NOP/NOP</td>\n",
       "      <td>SADD R0, ONE, R0</td>\n",
       "      <td>SADD VWR_C, VWR_A, VWR_B</td>\n",
       "      <td>SADD VWR_C, VWR_A, VWR_B</td>\n",
       "      <td>SADD VWR_C, VWR_A, VWR_B</td>\n",
       "      <td>SADD VWR_C, VWR_A, VWR_B</td>\n",
       "    </tr>\n",
       "    <tr>\n",
       "      <th>9</th>\n",
       "      <td>NOP</td>\n",
       "      <td>NOP/NOP</td>\n",
       "      <td>SADD R0, ONE, R0</td>\n",
       "      <td>SADD VWR_C, VWR_A, VWR_B</td>\n",
       "      <td>SADD VWR_C, VWR_A, VWR_B</td>\n",
       "      <td>SADD VWR_C, VWR_A, VWR_B</td>\n",
       "      <td>SADD VWR_C, VWR_A, VWR_B</td>\n",
       "    </tr>\n",
       "  </tbody>\n",
       "</table>\n",
       "</div>"
      ],
      "text/plain": [
       "   LCU                            LSU                MXCU  \\\n",
       "0  NOP   LOR R7, ONE, ZERO/LD.VWR SRF                 NOP   \n",
       "1  NOP  SADD R7, ONE, R7/LD.VWR VWR_A                 NOP   \n",
       "2  NOP  SADD R7, ONE, R7/LD.VWR VWR_B  LOR R0, ZERO, ZERO   \n",
       "3  NOP                        NOP/NOP    SADD R0, ONE, R0   \n",
       "4  NOP                        NOP/NOP    SADD R0, ONE, R0   \n",
       "5  NOP                        NOP/NOP    SADD R0, ONE, R0   \n",
       "6  NOP                        NOP/NOP    SADD R0, ONE, R0   \n",
       "7  NOP                        NOP/NOP    SADD R0, ONE, R0   \n",
       "8  NOP                        NOP/NOP    SADD R0, ONE, R0   \n",
       "9  NOP                        NOP/NOP    SADD R0, ONE, R0   \n",
       "\n",
       "                        RC0                       RC1  \\\n",
       "0                       NOP                       NOP   \n",
       "1                       NOP                       NOP   \n",
       "2                       NOP                       NOP   \n",
       "3  SADD VWR_C, VWR_A, VWR_B  SADD VWR_C, VWR_A, VWR_B   \n",
       "4  SADD VWR_C, VWR_A, VWR_B  SADD VWR_C, VWR_A, VWR_B   \n",
       "5  SADD VWR_C, VWR_A, VWR_B  SADD VWR_C, VWR_A, VWR_B   \n",
       "6  SADD VWR_C, VWR_A, VWR_B  SADD VWR_C, VWR_A, VWR_B   \n",
       "7  SADD VWR_C, VWR_A, VWR_B  SADD VWR_C, VWR_A, VWR_B   \n",
       "8  SADD VWR_C, VWR_A, VWR_B  SADD VWR_C, VWR_A, VWR_B   \n",
       "9  SADD VWR_C, VWR_A, VWR_B  SADD VWR_C, VWR_A, VWR_B   \n",
       "\n",
       "                        RC2                       RC3  \n",
       "0                       NOP                       NOP  \n",
       "1                       NOP                       NOP  \n",
       "2                       NOP                       NOP  \n",
       "3  SADD VWR_C, VWR_A, VWR_B  SADD VWR_C, VWR_A, VWR_B  \n",
       "4  SADD VWR_C, VWR_A, VWR_B  SADD VWR_C, VWR_A, VWR_B  \n",
       "5  SADD VWR_C, VWR_A, VWR_B  SADD VWR_C, VWR_A, VWR_B  \n",
       "6  SADD VWR_C, VWR_A, VWR_B  SADD VWR_C, VWR_A, VWR_B  \n",
       "7  SADD VWR_C, VWR_A, VWR_B  SADD VWR_C, VWR_A, VWR_B  \n",
       "8  SADD VWR_C, VWR_A, VWR_B  SADD VWR_C, VWR_A, VWR_B  \n",
       "9  SADD VWR_C, VWR_A, VWR_B  SADD VWR_C, VWR_A, VWR_B  "
      ]
     },
     "execution_count": 16,
     "metadata": {},
     "output_type": "execute_result"
    }
   ],
   "source": [
    "sim.compileHexToAsm(kernel_path)\n",
    "df = pd.read_csv(kernel_path + \"instructions_asm.csv\")\n",
    "print(\"The instruction memory has {0} entries.\".format(len(df)))\n",
    "df.head(10)"
   ]
  },
  {
   "cell_type": "markdown",
   "metadata": {},
   "source": [
    "We can see that the same action, adding two elements, is performed one and once again. Let's handle that with a loop.\n",
    "\n",
    "### Using loops\n",
    "It's your time to play. Try to use a loop to reduce the number of instructions.\n",
    "(You can think about it or check the solution in the provided assembly instructions version 2.)"
   ]
  },
  {
   "cell_type": "markdown",
   "metadata": {},
   "source": [
    "## Running code\n",
    "\n",
    "Now, let's run an application to see the outputs and check if the result is the expected.\n",
    "We will use, the vectors addition example once again. So, let's load it."
   ]
  },
  {
   "cell_type": "code",
   "execution_count": 17,
   "metadata": {},
   "outputs": [],
   "source": [
    "sim = SIMULATOR()\n",
    "\n",
    "# --------------------------------------------\n",
    "#               KERNEL CONFIGURATION\n",
    "# --------------------------------------------\n",
    "kernel_path = './kernels/add_vectors/'\n",
    "kernel_number = 1 \n",
    "column_usage = [True, False] \n",
    "nInstrPerCol = 6 \n",
    "imem_add_start = 0 \n",
    "srf_spm_addres = 0 \n",
    "version=\"_v2\"\n",
    "\n",
    "sim.kernel_config(column_usage, nInstrPerCol, imem_add_start, srf_spm_addres, kernel_number)"
   ]
  },
  {
   "cell_type": "markdown",
   "metadata": {},
   "source": [
    "Now, we need to populate the SPM with the values of our vectors."
   ]
  },
  {
   "cell_type": "code",
   "execution_count": 18,
   "metadata": {},
   "outputs": [
    {
     "name": "stdout",
     "output_type": "stream",
     "text": [
      "SPM 1: [0, 1, 2, 3, 4, 5, 6, 7, 8, 9, 10, 11, 12, 13, 14, 15, 16, 17, 18, 19, 20, 21, 22, 23, 24, 25, 26, 27, 28, 29, 30, 31, 32, 33, 34, 35, 36, 37, 38, 39, 40, 41, 42, 43, 44, 45, 46, 47, 48, 49, 50, 51, 52, 53, 54, 55, 56, 57, 58, 59, 60, 61, 62, 63, 64, 65, 66, 67, 68, 69, 70, 71, 72, 73, 74, 75, 76, 77, 78, 79, 80, 81, 82, 83, 84, 85, 86, 87, 88, 89, 90, 91, 92, 93, 94, 95, 96, 97, 98, 99, 100, 101, 102, 103, 104, 105, 106, 107, 108, 109, 110, 111, 112, 113, 114, 115, 116, 117, 118, 119, 120, 121, 122, 123, 124, 125, 126, 127, ]\n",
      "SPM 2: [0, 1, 2, 3, 4, 5, 6, 7, 8, 9, 10, 11, 12, 13, 14, 15, 16, 17, 18, 19, 20, 21, 22, 23, 24, 25, 26, 27, 28, 29, 30, 31, 32, 33, 34, 35, 36, 37, 38, 39, 40, 41, 42, 43, 44, 45, 46, 47, 48, 49, 50, 51, 52, 53, 54, 55, 56, 57, 58, 59, 60, 61, 62, 63, 64, 65, 66, 67, 68, 69, 70, 71, 72, 73, 74, 75, 76, 77, 78, 79, 80, 81, 82, 83, 84, 85, 86, 87, 88, 89, 90, 91, 92, 93, 94, 95, 96, 97, 98, 99, 100, 101, 102, 103, 104, 105, 106, 107, 108, 109, 110, 111, 112, 113, 114, 115, 116, 117, 118, 119, 120, 121, 122, 123, 124, 125, 126, 127, ]\n"
     ]
    }
   ],
   "source": [
    "# --------------------------------------------\n",
    "#                LOAD SPM DATA\n",
    "# --------------------------------------------\n",
    "# Load vector A\n",
    "vector_A = [i for i in range(SPM_NWORDS)]\n",
    "nline = 1\n",
    "sim.setSPMLine(nline, vector_A)\n",
    "# Load vector B\n",
    "vector_B = [i for i in range(SPM_NWORDS)]\n",
    "nline = 2\n",
    "sim.setSPMLine(nline, vector_B)\n",
    "\n",
    "sim.displaySPMLine(1)\n",
    "sim.displaySPMLine(2)"
   ]
  },
  {
   "cell_type": "markdown",
   "metadata": {},
   "source": [
    "Now, let's compile the assembly to hexadecimal since it's needed to run the code."
   ]
  },
  {
   "cell_type": "code",
   "execution_count": 19,
   "metadata": {},
   "outputs": [
    {
     "name": "stdout",
     "output_type": "stream",
     "text": [
      "ASM to Hex\n",
      "Processing file: ./kernels/add_vectors/instructions_asm_v2.csv...\n",
      "Creating file: ./kernels/add_vectors/dsip_bitstream.h\n",
      "Creating file: ./kernels/add_vectors/instructions_hex_v2_autogen.csv\n"
     ]
    }
   ],
   "source": [
    "# --------------------------------------------\n",
    "#              COMPILE ASM TO HEX\n",
    "# --------------------------------------------\n",
    "sim.compileAsmToHex(kernel_path, kernel_number, version=version)"
   ]
  },
  {
   "cell_type": "markdown",
   "metadata": {},
   "source": [
    "Finally, we load the kernel into the internal memory of the specialized units and run it."
   ]
  },
  {
   "cell_type": "code",
   "execution_count": 20,
   "metadata": {},
   "outputs": [
    {
     "name": "stdout",
     "output_type": "stream",
     "text": [
      "Processing file: ./kernels/add_vectors/instructions_hex_v2_autogen.csv...\n",
      "---------------------\n",
      "       PC: 0\n",
      "---------------------\n",
      "LSU: LOR R7, ONE, ZERO/LD.VWR SRF --> ALU res = 1\n",
      "RC0: NOP --> ALU res = 0\n",
      "RC1: NOP --> ALU res = 0\n",
      "RC2: NOP --> ALU res = 0\n",
      "RC3: NOP --> ALU res = 0\n",
      "MXCU: LOR R5, LAST, ZERO (VWR selected: 0, not writting SRF) --> ALU res = 31\n",
      "LCU: NOP --> ALU res = 0\n",
      "---------------------\n",
      "       PC: 1\n",
      "---------------------\n",
      "LSU: SADD R7, ONE, R7/LD.VWR VWR_A --> ALU res = 2\n",
      "RC0: NOP --> ALU res = 0\n",
      "RC1: NOP --> ALU res = 0\n",
      "RC2: NOP --> ALU res = 0\n",
      "RC3: NOP --> ALU res = 0\n",
      "MXCU: LOR R6, LAST, ZERO (VWR selected: 0, not writting SRF) --> ALU res = 31\n",
      "LCU: NOP --> ALU res = 0\n",
      "---------------------\n",
      "       PC: 2\n",
      "---------------------\n",
      "LSU: NOP/NOP --> ALU res = 0\n",
      "RC0: NOP --> ALU res = 0\n",
      "RC1: NOP --> ALU res = 0\n",
      "RC2: NOP --> ALU res = 0\n",
      "RC3: NOP --> ALU res = 0\n",
      "MXCU: LOR R7, LAST, ZERO (VWR selected: 0, not writting SRF) --> ALU res = 31\n",
      "LCU: NOP --> ALU res = 0\n",
      "---------------------\n",
      "       PC: 3\n",
      "---------------------\n",
      "LSU: SADD R7, ONE, R7/LD.VWR VWR_B --> ALU res = 3\n",
      "RC0: NOP --> ALU res = 0\n",
      "RC1: NOP --> ALU res = 0\n",
      "RC2: NOP --> ALU res = 0\n",
      "RC3: NOP --> ALU res = 0\n",
      "MXCU: LOR R0, ZERO, ZERO (VWR selected: 0, not writting SRF) --> ALU res = 0\n",
      "LCU: SADD R0, ZERO, LAST --> ALU res = 31\n",
      "---------------------\n",
      "       PC: 4\n",
      "---------------------\n",
      "LSU: NOP/NOP --> ALU res = 0\n",
      "RC0: SADD VWR_C, VWR_A, VWR_B --> ALU res = 0\n",
      "RC1: SADD VWR_C, VWR_A, VWR_B --> ALU res = 64\n",
      "RC2: SADD VWR_C, VWR_A, VWR_B --> ALU res = 128\n",
      "RC3: SADD VWR_C, VWR_A, VWR_B --> ALU res = 192\n",
      "MXCU: SADD R0, ONE, R0 (VWR selected: 2, not writting SRF) --> ALU res = 1\n",
      "LCU: BGEPD R0, ZERO, 4 --> ALU res = 30\n",
      "---------------------\n",
      "       PC: 4\n",
      "---------------------\n",
      "LSU: NOP/NOP --> ALU res = 0\n",
      "RC0: SADD VWR_C, VWR_A, VWR_B --> ALU res = 2\n",
      "RC1: SADD VWR_C, VWR_A, VWR_B --> ALU res = 66\n",
      "RC2: SADD VWR_C, VWR_A, VWR_B --> ALU res = 130\n",
      "RC3: SADD VWR_C, VWR_A, VWR_B --> ALU res = 194\n",
      "MXCU: SADD R0, ONE, R0 (VWR selected: 2, not writting SRF) --> ALU res = 2\n",
      "LCU: BGEPD R0, ZERO, 4 --> ALU res = 29\n",
      "---------------------\n",
      "       PC: 4\n",
      "---------------------\n",
      "LSU: NOP/NOP --> ALU res = 0\n",
      "RC0: SADD VWR_C, VWR_A, VWR_B --> ALU res = 4\n",
      "RC1: SADD VWR_C, VWR_A, VWR_B --> ALU res = 68\n",
      "RC2: SADD VWR_C, VWR_A, VWR_B --> ALU res = 132\n",
      "RC3: SADD VWR_C, VWR_A, VWR_B --> ALU res = 196\n",
      "MXCU: SADD R0, ONE, R0 (VWR selected: 2, not writting SRF) --> ALU res = 3\n",
      "LCU: BGEPD R0, ZERO, 4 --> ALU res = 28\n",
      "---------------------\n",
      "       PC: 4\n",
      "---------------------\n",
      "LSU: NOP/NOP --> ALU res = 0\n",
      "RC0: SADD VWR_C, VWR_A, VWR_B --> ALU res = 6\n",
      "RC1: SADD VWR_C, VWR_A, VWR_B --> ALU res = 70\n",
      "RC2: SADD VWR_C, VWR_A, VWR_B --> ALU res = 134\n",
      "RC3: SADD VWR_C, VWR_A, VWR_B --> ALU res = 198\n",
      "MXCU: SADD R0, ONE, R0 (VWR selected: 2, not writting SRF) --> ALU res = 4\n",
      "LCU: BGEPD R0, ZERO, 4 --> ALU res = 27\n",
      "---------------------\n",
      "       PC: 4\n",
      "---------------------\n",
      "LSU: NOP/NOP --> ALU res = 0\n",
      "RC0: SADD VWR_C, VWR_A, VWR_B --> ALU res = 8\n",
      "RC1: SADD VWR_C, VWR_A, VWR_B --> ALU res = 72\n",
      "RC2: SADD VWR_C, VWR_A, VWR_B --> ALU res = 136\n",
      "RC3: SADD VWR_C, VWR_A, VWR_B --> ALU res = 200\n",
      "MXCU: SADD R0, ONE, R0 (VWR selected: 2, not writting SRF) --> ALU res = 5\n",
      "LCU: BGEPD R0, ZERO, 4 --> ALU res = 26\n",
      "---------------------\n",
      "       PC: 4\n",
      "---------------------\n",
      "LSU: NOP/NOP --> ALU res = 0\n",
      "RC0: SADD VWR_C, VWR_A, VWR_B --> ALU res = 10\n",
      "RC1: SADD VWR_C, VWR_A, VWR_B --> ALU res = 74\n",
      "RC2: SADD VWR_C, VWR_A, VWR_B --> ALU res = 138\n",
      "RC3: SADD VWR_C, VWR_A, VWR_B --> ALU res = 202\n",
      "MXCU: SADD R0, ONE, R0 (VWR selected: 2, not writting SRF) --> ALU res = 6\n",
      "LCU: BGEPD R0, ZERO, 4 --> ALU res = 25\n",
      "---------------------\n",
      "       PC: 4\n",
      "---------------------\n",
      "LSU: NOP/NOP --> ALU res = 0\n",
      "RC0: SADD VWR_C, VWR_A, VWR_B --> ALU res = 12\n",
      "RC1: SADD VWR_C, VWR_A, VWR_B --> ALU res = 76\n",
      "RC2: SADD VWR_C, VWR_A, VWR_B --> ALU res = 140\n",
      "RC3: SADD VWR_C, VWR_A, VWR_B --> ALU res = 204\n",
      "MXCU: SADD R0, ONE, R0 (VWR selected: 2, not writting SRF) --> ALU res = 7\n",
      "LCU: BGEPD R0, ZERO, 4 --> ALU res = 24\n",
      "---------------------\n",
      "       PC: 4\n",
      "---------------------\n",
      "LSU: NOP/NOP --> ALU res = 0\n",
      "RC0: SADD VWR_C, VWR_A, VWR_B --> ALU res = 14\n",
      "RC1: SADD VWR_C, VWR_A, VWR_B --> ALU res = 78\n",
      "RC2: SADD VWR_C, VWR_A, VWR_B --> ALU res = 142\n",
      "RC3: SADD VWR_C, VWR_A, VWR_B --> ALU res = 206\n",
      "MXCU: SADD R0, ONE, R0 (VWR selected: 2, not writting SRF) --> ALU res = 8\n",
      "LCU: BGEPD R0, ZERO, 4 --> ALU res = 23\n",
      "---------------------\n",
      "       PC: 4\n",
      "---------------------\n",
      "LSU: NOP/NOP --> ALU res = 0\n",
      "RC0: SADD VWR_C, VWR_A, VWR_B --> ALU res = 16\n",
      "RC1: SADD VWR_C, VWR_A, VWR_B --> ALU res = 80\n",
      "RC2: SADD VWR_C, VWR_A, VWR_B --> ALU res = 144\n",
      "RC3: SADD VWR_C, VWR_A, VWR_B --> ALU res = 208\n",
      "MXCU: SADD R0, ONE, R0 (VWR selected: 2, not writting SRF) --> ALU res = 9\n",
      "LCU: BGEPD R0, ZERO, 4 --> ALU res = 22\n",
      "---------------------\n",
      "       PC: 4\n",
      "---------------------\n",
      "LSU: NOP/NOP --> ALU res = 0\n",
      "RC0: SADD VWR_C, VWR_A, VWR_B --> ALU res = 18\n",
      "RC1: SADD VWR_C, VWR_A, VWR_B --> ALU res = 82\n",
      "RC2: SADD VWR_C, VWR_A, VWR_B --> ALU res = 146\n",
      "RC3: SADD VWR_C, VWR_A, VWR_B --> ALU res = 210\n",
      "MXCU: SADD R0, ONE, R0 (VWR selected: 2, not writting SRF) --> ALU res = 10\n",
      "LCU: BGEPD R0, ZERO, 4 --> ALU res = 21\n",
      "---------------------\n",
      "       PC: 4\n",
      "---------------------\n",
      "LSU: NOP/NOP --> ALU res = 0\n",
      "RC0: SADD VWR_C, VWR_A, VWR_B --> ALU res = 20\n",
      "RC1: SADD VWR_C, VWR_A, VWR_B --> ALU res = 84\n",
      "RC2: SADD VWR_C, VWR_A, VWR_B --> ALU res = 148\n",
      "RC3: SADD VWR_C, VWR_A, VWR_B --> ALU res = 212\n",
      "MXCU: SADD R0, ONE, R0 (VWR selected: 2, not writting SRF) --> ALU res = 11\n",
      "LCU: BGEPD R0, ZERO, 4 --> ALU res = 20\n",
      "---------------------\n",
      "       PC: 4\n",
      "---------------------\n",
      "LSU: NOP/NOP --> ALU res = 0\n",
      "RC0: SADD VWR_C, VWR_A, VWR_B --> ALU res = 22\n",
      "RC1: SADD VWR_C, VWR_A, VWR_B --> ALU res = 86\n",
      "RC2: SADD VWR_C, VWR_A, VWR_B --> ALU res = 150\n",
      "RC3: SADD VWR_C, VWR_A, VWR_B --> ALU res = 214\n",
      "MXCU: SADD R0, ONE, R0 (VWR selected: 2, not writting SRF) --> ALU res = 12\n",
      "LCU: BGEPD R0, ZERO, 4 --> ALU res = 19\n",
      "---------------------\n",
      "       PC: 4\n",
      "---------------------\n",
      "LSU: NOP/NOP --> ALU res = 0\n",
      "RC0: SADD VWR_C, VWR_A, VWR_B --> ALU res = 24\n",
      "RC1: SADD VWR_C, VWR_A, VWR_B --> ALU res = 88\n",
      "RC2: SADD VWR_C, VWR_A, VWR_B --> ALU res = 152\n",
      "RC3: SADD VWR_C, VWR_A, VWR_B --> ALU res = 216\n",
      "MXCU: SADD R0, ONE, R0 (VWR selected: 2, not writting SRF) --> ALU res = 13\n",
      "LCU: BGEPD R0, ZERO, 4 --> ALU res = 18\n",
      "---------------------\n",
      "       PC: 4\n",
      "---------------------\n",
      "LSU: NOP/NOP --> ALU res = 0\n",
      "RC0: SADD VWR_C, VWR_A, VWR_B --> ALU res = 26\n",
      "RC1: SADD VWR_C, VWR_A, VWR_B --> ALU res = 90\n",
      "RC2: SADD VWR_C, VWR_A, VWR_B --> ALU res = 154\n",
      "RC3: SADD VWR_C, VWR_A, VWR_B --> ALU res = 218\n",
      "MXCU: SADD R0, ONE, R0 (VWR selected: 2, not writting SRF) --> ALU res = 14\n",
      "LCU: BGEPD R0, ZERO, 4 --> ALU res = 17\n",
      "---------------------\n",
      "       PC: 4\n",
      "---------------------\n",
      "LSU: NOP/NOP --> ALU res = 0\n",
      "RC0: SADD VWR_C, VWR_A, VWR_B --> ALU res = 28\n",
      "RC1: SADD VWR_C, VWR_A, VWR_B --> ALU res = 92\n",
      "RC2: SADD VWR_C, VWR_A, VWR_B --> ALU res = 156\n",
      "RC3: SADD VWR_C, VWR_A, VWR_B --> ALU res = 220\n",
      "MXCU: SADD R0, ONE, R0 (VWR selected: 2, not writting SRF) --> ALU res = 15\n",
      "LCU: BGEPD R0, ZERO, 4 --> ALU res = 16\n",
      "---------------------\n",
      "       PC: 4\n",
      "---------------------\n",
      "LSU: NOP/NOP --> ALU res = 0\n",
      "RC0: SADD VWR_C, VWR_A, VWR_B --> ALU res = 30\n",
      "RC1: SADD VWR_C, VWR_A, VWR_B --> ALU res = 94\n",
      "RC2: SADD VWR_C, VWR_A, VWR_B --> ALU res = 158\n",
      "RC3: SADD VWR_C, VWR_A, VWR_B --> ALU res = 222\n",
      "MXCU: SADD R0, ONE, R0 (VWR selected: 2, not writting SRF) --> ALU res = 16\n",
      "LCU: BGEPD R0, ZERO, 4 --> ALU res = 15\n",
      "---------------------\n",
      "       PC: 4\n",
      "---------------------\n",
      "LSU: NOP/NOP --> ALU res = 0\n",
      "RC0: SADD VWR_C, VWR_A, VWR_B --> ALU res = 32\n",
      "RC1: SADD VWR_C, VWR_A, VWR_B --> ALU res = 96\n",
      "RC2: SADD VWR_C, VWR_A, VWR_B --> ALU res = 160\n",
      "RC3: SADD VWR_C, VWR_A, VWR_B --> ALU res = 224\n",
      "MXCU: SADD R0, ONE, R0 (VWR selected: 2, not writting SRF) --> ALU res = 17\n",
      "LCU: BGEPD R0, ZERO, 4 --> ALU res = 14\n",
      "---------------------\n",
      "       PC: 4\n",
      "---------------------\n",
      "LSU: NOP/NOP --> ALU res = 0\n",
      "RC0: SADD VWR_C, VWR_A, VWR_B --> ALU res = 34\n",
      "RC1: SADD VWR_C, VWR_A, VWR_B --> ALU res = 98\n",
      "RC2: SADD VWR_C, VWR_A, VWR_B --> ALU res = 162\n",
      "RC3: SADD VWR_C, VWR_A, VWR_B --> ALU res = 226\n",
      "MXCU: SADD R0, ONE, R0 (VWR selected: 2, not writting SRF) --> ALU res = 18\n",
      "LCU: BGEPD R0, ZERO, 4 --> ALU res = 13\n",
      "---------------------\n",
      "       PC: 4\n",
      "---------------------\n",
      "LSU: NOP/NOP --> ALU res = 0\n",
      "RC0: SADD VWR_C, VWR_A, VWR_B --> ALU res = 36\n",
      "RC1: SADD VWR_C, VWR_A, VWR_B --> ALU res = 100\n",
      "RC2: SADD VWR_C, VWR_A, VWR_B --> ALU res = 164\n",
      "RC3: SADD VWR_C, VWR_A, VWR_B --> ALU res = 228\n",
      "MXCU: SADD R0, ONE, R0 (VWR selected: 2, not writting SRF) --> ALU res = 19\n",
      "LCU: BGEPD R0, ZERO, 4 --> ALU res = 12\n",
      "---------------------\n",
      "       PC: 4\n",
      "---------------------\n",
      "LSU: NOP/NOP --> ALU res = 0\n",
      "RC0: SADD VWR_C, VWR_A, VWR_B --> ALU res = 38\n",
      "RC1: SADD VWR_C, VWR_A, VWR_B --> ALU res = 102\n",
      "RC2: SADD VWR_C, VWR_A, VWR_B --> ALU res = 166\n",
      "RC3: SADD VWR_C, VWR_A, VWR_B --> ALU res = 230\n",
      "MXCU: SADD R0, ONE, R0 (VWR selected: 2, not writting SRF) --> ALU res = 20\n",
      "LCU: BGEPD R0, ZERO, 4 --> ALU res = 11\n",
      "---------------------\n",
      "       PC: 4\n",
      "---------------------\n",
      "LSU: NOP/NOP --> ALU res = 0\n",
      "RC0: SADD VWR_C, VWR_A, VWR_B --> ALU res = 40\n",
      "RC1: SADD VWR_C, VWR_A, VWR_B --> ALU res = 104\n",
      "RC2: SADD VWR_C, VWR_A, VWR_B --> ALU res = 168\n",
      "RC3: SADD VWR_C, VWR_A, VWR_B --> ALU res = 232\n",
      "MXCU: SADD R0, ONE, R0 (VWR selected: 2, not writting SRF) --> ALU res = 21\n",
      "LCU: BGEPD R0, ZERO, 4 --> ALU res = 10\n",
      "---------------------\n",
      "       PC: 4\n",
      "---------------------\n",
      "LSU: NOP/NOP --> ALU res = 0\n",
      "RC0: SADD VWR_C, VWR_A, VWR_B --> ALU res = 42\n",
      "RC1: SADD VWR_C, VWR_A, VWR_B --> ALU res = 106\n",
      "RC2: SADD VWR_C, VWR_A, VWR_B --> ALU res = 170\n",
      "RC3: SADD VWR_C, VWR_A, VWR_B --> ALU res = 234\n",
      "MXCU: SADD R0, ONE, R0 (VWR selected: 2, not writting SRF) --> ALU res = 22\n",
      "LCU: BGEPD R0, ZERO, 4 --> ALU res = 9\n",
      "---------------------\n",
      "       PC: 4\n",
      "---------------------\n",
      "LSU: NOP/NOP --> ALU res = 0\n",
      "RC0: SADD VWR_C, VWR_A, VWR_B --> ALU res = 44\n",
      "RC1: SADD VWR_C, VWR_A, VWR_B --> ALU res = 108\n",
      "RC2: SADD VWR_C, VWR_A, VWR_B --> ALU res = 172\n",
      "RC3: SADD VWR_C, VWR_A, VWR_B --> ALU res = 236\n",
      "MXCU: SADD R0, ONE, R0 (VWR selected: 2, not writting SRF) --> ALU res = 23\n",
      "LCU: BGEPD R0, ZERO, 4 --> ALU res = 8\n",
      "---------------------\n",
      "       PC: 4\n",
      "---------------------\n",
      "LSU: NOP/NOP --> ALU res = 0\n",
      "RC0: SADD VWR_C, VWR_A, VWR_B --> ALU res = 46\n",
      "RC1: SADD VWR_C, VWR_A, VWR_B --> ALU res = 110\n",
      "RC2: SADD VWR_C, VWR_A, VWR_B --> ALU res = 174\n",
      "RC3: SADD VWR_C, VWR_A, VWR_B --> ALU res = 238\n",
      "MXCU: SADD R0, ONE, R0 (VWR selected: 2, not writting SRF) --> ALU res = 24\n",
      "LCU: BGEPD R0, ZERO, 4 --> ALU res = 7\n",
      "---------------------\n",
      "       PC: 4\n",
      "---------------------\n",
      "LSU: NOP/NOP --> ALU res = 0\n",
      "RC0: SADD VWR_C, VWR_A, VWR_B --> ALU res = 48\n",
      "RC1: SADD VWR_C, VWR_A, VWR_B --> ALU res = 112\n",
      "RC2: SADD VWR_C, VWR_A, VWR_B --> ALU res = 176\n",
      "RC3: SADD VWR_C, VWR_A, VWR_B --> ALU res = 240\n",
      "MXCU: SADD R0, ONE, R0 (VWR selected: 2, not writting SRF) --> ALU res = 25\n",
      "LCU: BGEPD R0, ZERO, 4 --> ALU res = 6\n",
      "---------------------\n",
      "       PC: 4\n",
      "---------------------\n",
      "LSU: NOP/NOP --> ALU res = 0\n",
      "RC0: SADD VWR_C, VWR_A, VWR_B --> ALU res = 50\n",
      "RC1: SADD VWR_C, VWR_A, VWR_B --> ALU res = 114\n",
      "RC2: SADD VWR_C, VWR_A, VWR_B --> ALU res = 178\n",
      "RC3: SADD VWR_C, VWR_A, VWR_B --> ALU res = 242\n",
      "MXCU: SADD R0, ONE, R0 (VWR selected: 2, not writting SRF) --> ALU res = 26\n",
      "LCU: BGEPD R0, ZERO, 4 --> ALU res = 5\n",
      "---------------------\n",
      "       PC: 4\n",
      "---------------------\n",
      "LSU: NOP/NOP --> ALU res = 0\n",
      "RC0: SADD VWR_C, VWR_A, VWR_B --> ALU res = 52\n",
      "RC1: SADD VWR_C, VWR_A, VWR_B --> ALU res = 116\n",
      "RC2: SADD VWR_C, VWR_A, VWR_B --> ALU res = 180\n",
      "RC3: SADD VWR_C, VWR_A, VWR_B --> ALU res = 244\n",
      "MXCU: SADD R0, ONE, R0 (VWR selected: 2, not writting SRF) --> ALU res = 27\n",
      "LCU: BGEPD R0, ZERO, 4 --> ALU res = 4\n",
      "---------------------\n",
      "       PC: 4\n",
      "---------------------\n",
      "LSU: NOP/NOP --> ALU res = 0\n",
      "RC0: SADD VWR_C, VWR_A, VWR_B --> ALU res = 54\n",
      "RC1: SADD VWR_C, VWR_A, VWR_B --> ALU res = 118\n",
      "RC2: SADD VWR_C, VWR_A, VWR_B --> ALU res = 182\n",
      "RC3: SADD VWR_C, VWR_A, VWR_B --> ALU res = 246\n",
      "MXCU: SADD R0, ONE, R0 (VWR selected: 2, not writting SRF) --> ALU res = 28\n",
      "LCU: BGEPD R0, ZERO, 4 --> ALU res = 3\n",
      "---------------------\n",
      "       PC: 4\n",
      "---------------------\n",
      "LSU: NOP/NOP --> ALU res = 0\n",
      "RC0: SADD VWR_C, VWR_A, VWR_B --> ALU res = 56\n",
      "RC1: SADD VWR_C, VWR_A, VWR_B --> ALU res = 120\n",
      "RC2: SADD VWR_C, VWR_A, VWR_B --> ALU res = 184\n",
      "RC3: SADD VWR_C, VWR_A, VWR_B --> ALU res = 248\n",
      "MXCU: SADD R0, ONE, R0 (VWR selected: 2, not writting SRF) --> ALU res = 29\n",
      "LCU: BGEPD R0, ZERO, 4 --> ALU res = 2\n",
      "---------------------\n",
      "       PC: 4\n",
      "---------------------\n",
      "LSU: NOP/NOP --> ALU res = 0\n",
      "RC0: SADD VWR_C, VWR_A, VWR_B --> ALU res = 58\n",
      "RC1: SADD VWR_C, VWR_A, VWR_B --> ALU res = 122\n",
      "RC2: SADD VWR_C, VWR_A, VWR_B --> ALU res = 186\n",
      "RC3: SADD VWR_C, VWR_A, VWR_B --> ALU res = 250\n",
      "MXCU: SADD R0, ONE, R0 (VWR selected: 2, not writting SRF) --> ALU res = 30\n",
      "LCU: BGEPD R0, ZERO, 4 --> ALU res = 1\n",
      "---------------------\n",
      "       PC: 4\n",
      "---------------------\n",
      "LSU: NOP/NOP --> ALU res = 0\n",
      "RC0: SADD VWR_C, VWR_A, VWR_B --> ALU res = 60\n",
      "RC1: SADD VWR_C, VWR_A, VWR_B --> ALU res = 124\n",
      "RC2: SADD VWR_C, VWR_A, VWR_B --> ALU res = 188\n",
      "RC3: SADD VWR_C, VWR_A, VWR_B --> ALU res = 252\n",
      "MXCU: SADD R0, ONE, R0 (VWR selected: 2, not writting SRF) --> ALU res = 31\n",
      "LCU: BGEPD R0, ZERO, 4 --> ALU res = 0\n",
      "---------------------\n",
      "       PC: 4\n",
      "---------------------\n",
      "LSU: NOP/NOP --> ALU res = 0\n",
      "RC0: SADD VWR_C, VWR_A, VWR_B --> ALU res = 62\n",
      "RC1: SADD VWR_C, VWR_A, VWR_B --> ALU res = 126\n",
      "RC2: SADD VWR_C, VWR_A, VWR_B --> ALU res = 190\n",
      "RC3: SADD VWR_C, VWR_A, VWR_B --> ALU res = 254\n",
      "MXCU: SADD R0, ONE, R0 (VWR selected: 2, not writting SRF) --> ALU res = 32\n",
      "LCU: BGEPD R0, ZERO, 4 --> ALU res = -1\n",
      "---------------------\n",
      "       PC: 5\n",
      "---------------------\n",
      "LSU: NOP/STR.VWR VWR_C --> ALU res = 0\n",
      "RC0: NOP --> ALU res = 62\n",
      "RC1: NOP --> ALU res = 126\n",
      "RC2: NOP --> ALU res = 190\n",
      "RC3: NOP --> ALU res = 254\n",
      "MXCU: NOP (VWR selected: 0, not writting SRF) --> ALU res = 32\n",
      "LCU: EXIT --> ALU res = -1\n",
      "End...\n"
     ]
    }
   ],
   "source": [
    "# --------------------------------------------\n",
    "#                 LOAD KERNEL\n",
    "# --------------------------------------------\n",
    "\n",
    "# This needs the hex instructions, if you don't provide them, generate then compiling the asm\n",
    "sim.kernel_load(kernel_path, version=version + \"_autogen\", kernel_number=kernel_number)\n",
    "\n",
    "# --------------------------------------------\n",
    "#               SIMULATE EXECUTION\n",
    "# --------------------------------------------\n",
    "show_lcu = []\n",
    "show_srf = []\n",
    "show_lsu = []\n",
    "show_rcs = [[],[],[],[]]\n",
    "show_mxcu = []\n",
    "display_ops = [show_lcu, show_lsu, show_mxcu, show_rcs, show_srf]\n",
    "\n",
    "sim.run(kernel_number, display_ops=display_ops)"
   ]
  },
  {
   "cell_type": "markdown",
   "metadata": {},
   "source": [
    "Let's check that we have the correct output in the SPM line just by looking at it."
   ]
  },
  {
   "cell_type": "code",
   "execution_count": 21,
   "metadata": {},
   "outputs": [
    {
     "name": "stdout",
     "output_type": "stream",
     "text": [
      "SPM 1: [0, 1, 2, 3, 4, 5, 6, 7, 8, 9, 10, 11, 12, 13, 14, 15, 16, 17, 18, 19, 20, 21, 22, 23, 24, 25, 26, 27, 28, 29, 30, 31, 32, 33, 34, 35, 36, 37, 38, 39, 40, 41, 42, 43, 44, 45, 46, 47, 48, 49, 50, 51, 52, 53, 54, 55, 56, 57, 58, 59, 60, 61, 62, 63, 64, 65, 66, 67, 68, 69, 70, 71, 72, 73, 74, 75, 76, 77, 78, 79, 80, 81, 82, 83, 84, 85, 86, 87, 88, 89, 90, 91, 92, 93, 94, 95, 96, 97, 98, 99, 100, 101, 102, 103, 104, 105, 106, 107, 108, 109, 110, 111, 112, 113, 114, 115, 116, 117, 118, 119, 120, 121, 122, 123, 124, 125, 126, 127, ]\n",
      "SPM 2: [0, 1, 2, 3, 4, 5, 6, 7, 8, 9, 10, 11, 12, 13, 14, 15, 16, 17, 18, 19, 20, 21, 22, 23, 24, 25, 26, 27, 28, 29, 30, 31, 32, 33, 34, 35, 36, 37, 38, 39, 40, 41, 42, 43, 44, 45, 46, 47, 48, 49, 50, 51, 52, 53, 54, 55, 56, 57, 58, 59, 60, 61, 62, 63, 64, 65, 66, 67, 68, 69, 70, 71, 72, 73, 74, 75, 76, 77, 78, 79, 80, 81, 82, 83, 84, 85, 86, 87, 88, 89, 90, 91, 92, 93, 94, 95, 96, 97, 98, 99, 100, 101, 102, 103, 104, 105, 106, 107, 108, 109, 110, 111, 112, 113, 114, 115, 116, 117, 118, 119, 120, 121, 122, 123, 124, 125, 126, 127, ]\n",
      "SPM 3: [0, 2, 4, 6, 8, 10, 12, 14, 16, 18, 20, 22, 24, 26, 28, 30, 32, 34, 36, 38, 40, 42, 44, 46, 48, 50, 52, 54, 56, 58, 60, 62, 64, 66, 68, 70, 72, 74, 76, 78, 80, 82, 84, 86, 88, 90, 92, 94, 96, 98, 100, 102, 104, 106, 108, 110, 112, 114, 116, 118, 120, 122, 124, 126, 128, 130, 132, 134, 136, 138, 140, 142, 144, 146, 148, 150, 152, 154, 156, 158, 160, 162, 164, 166, 168, 170, 172, 174, 176, 178, 180, 182, 184, 186, 188, 190, 192, 194, 196, 198, 200, 202, 204, 206, 208, 210, 212, 214, 216, 218, 220, 222, 224, 226, 228, 230, 232, 234, 236, 238, 240, 242, 244, 246, 248, 250, 252, 254, ]\n"
     ]
    }
   ],
   "source": [
    "sim.displaySPMLine(1)\n",
    "sim.displaySPMLine(2)\n",
    "sim.displaySPMLine(3)"
   ]
  },
  {
   "cell_type": "markdown",
   "metadata": {},
   "source": [
    "We can check it more rigorously. We can define our function in python and check that the output matches the CGRA output."
   ]
  },
  {
   "cell_type": "code",
   "execution_count": 22,
   "metadata": {},
   "outputs": [
    {
     "name": "stdout",
     "output_type": "stream",
     "text": [
      "SPM 3: [0, 2, 4, 6, 8, 10, 12, 14, 16, 18, 20, 22, 24, 26, 28, 30, 32, 34, 36, 38, 40, 42, 44, 46, 48, 50, 52, 54, 56, 58, 60, 62, 64, 66, 68, 70, 72, 74, 76, 78, 80, 82, 84, 86, 88, 90, 92, 94, 96, 98, 100, 102, 104, 106, 108, 110, 112, 114, 116, 118, 120, 122, 124, 126, 128, 130, 132, 134, 136, 138, 140, 142, 144, 146, 148, 150, 152, 154, 156, 158, 160, 162, 164, 166, 168, 170, 172, 174, 176, 178, 180, 182, 184, 186, 188, 190, 192, 194, 196, 198, 200, 202, 204, 206, 208, 210, 212, 214, 216, 218, 220, 222, 224, 226, 228, 230, 232, 234, 236, 238, 240, 242, 244, 246, 248, 250, 252, 254, ]\n",
      "The result is correct!\n"
     ]
    }
   ],
   "source": [
    "sim.displaySPMLine(3)\n",
    "vwr2a_res = sim.getSPMLine(3)\n",
    "errors_idx = []\n",
    "for i in range(len(vector_A)):\n",
    "    if vector_A[i] + vector_B[i] != vwr2a_res[i]:\n",
    "        errors_idx.append(i)\n",
    "if len(errors_idx) == 0:\n",
    "    print(\"The result is correct!\")\n",
    "else:\n",
    "    print(\"Oops, something went wrong. There are \" + str(len(errors_idx)) + \" errors.\")\n",
    "    print(errors_idx)\n"
   ]
  },
  {
   "cell_type": "markdown",
   "metadata": {},
   "source": [
    "Now it's your time to play!"
   ]
  },
  {
   "cell_type": "code",
   "execution_count": 23,
   "metadata": {},
   "outputs": [],
   "source": [
    "#Let's do it!"
   ]
  },
  {
   "cell_type": "markdown",
   "metadata": {},
   "source": [
    "# Appendix\n",
    "For the rest of the examples, in order to run them some info for the kernel configuration is needed. It can be decoded from the hexadecimal words in the column KMEM."
   ]
  },
  {
   "cell_type": "markdown",
   "metadata": {},
   "source": [
    "### Exit"
   ]
  },
  {
   "cell_type": "code",
   "execution_count": 24,
   "metadata": {},
   "outputs": [],
   "source": [
    "# --------------------------------------------\n",
    "#               KERNEL CONFIGURATION\n",
    "# --------------------------------------------\n",
    "kernel_path = './kernels/exit/' \n",
    "kernel_number = 1\n",
    "column_usage = [True, False] # Columns to use\n",
    "nInstrPerCol = 1 # Number of instructions per column\n",
    "imem_add_start = 0 # Start address on imem for this kernel\n",
    "srf_spm_addres = 0 # Line of the SPM with the initial data for the SRF\n",
    "version = \"\""
   ]
  },
  {
   "cell_type": "markdown",
   "metadata": {},
   "source": [
    "### FFT"
   ]
  },
  {
   "cell_type": "code",
   "execution_count": 25,
   "metadata": {},
   "outputs": [
    {
     "name": "stdout",
     "output_type": "stream",
     "text": [
      "Kernel 1\n",
      "This kernel uses 39 instruction words starting at IMEM address 0.\n",
      "It uses column(s): both.\n",
      "The SRF is located in SPM bank 0.\n",
      "Kernel 2\n",
      "This kernel uses 49 instruction words starting at IMEM address 78.\n",
      "It uses column(s): both.\n",
      "The SRF is located in SPM bank 1.\n"
     ]
    }
   ],
   "source": [
    "# Add to KMEM the word and decode it\n",
    "kmem = KMEM()\n",
    "\n",
    "kmem_pos_1 = 1\n",
    "kmem_word_1 = 0x18026\n",
    "\n",
    "kmem_pos_2 = 2\n",
    "kmem_word_2 = 0x393b0\n",
    "\n",
    "kmem.imem.set_word(kmem_word_1, kmem_pos_1)\n",
    "kmem.imem.set_word(kmem_word_2, kmem_pos_2)\n",
    "print(\"Kernel 1\")\n",
    "kmem.imem.get_kernel_info(kmem_pos_1)\n",
    "print(\"Kernel 2\")\n",
    "kmem.imem.get_kernel_info(kmem_pos_2)"
   ]
  },
  {
   "cell_type": "code",
   "execution_count": 26,
   "metadata": {},
   "outputs": [
    {
     "name": "stdout",
     "output_type": "stream",
     "text": [
      "Hex to ASM\n",
      "Processing file: ./kernels/fft/instructions_hex.csv...\n",
      "Creating file: ./kernels/fft/instructions_asm.csv\n",
      "ASM to Hex\n",
      "Processing file: ./kernels/fft/instructions_asm.csv...\n",
      "Creating file: ./kernels/fft/dsip_bitstream.h\n",
      "Creating file: ./kernels/fft/instructions_hex_autogen.csv\n"
     ]
    }
   ],
   "source": [
    "# --------------------------------------------\n",
    "#               KERNEL CONFIGURATION\n",
    "# --------------------------------------------\n",
    "kernel_path = './kernels/fft/' \n",
    "kernel_number = 1 # Kernel number (from 1 to 15)\n",
    "column_usage = [True, True] # Columns to use\n",
    "nInstrPerCol = 39 # Number of instructions per column\n",
    "imem_add_start = 0 # Start address on imem for this kernel\n",
    "srf_spm_addres = 0 # Line of the SPM with the initial data for the SRF\n",
    "version=\"\"\n",
    "\n",
    "sim = SIMULATOR()\n",
    "sim.kernel_config(column_usage, nInstrPerCol, imem_add_start, srf_spm_addres, kernel_number)\n",
    "sim.compileHexToAsm(kernel_path)\n",
    "sim.compileAsmToHex(kernel_path, kernel_number, version=version)"
   ]
  },
  {
   "cell_type": "markdown",
   "metadata": {},
   "source": [
    "### MF_Q64_EROSION"
   ]
  },
  {
   "cell_type": "code",
   "execution_count": 27,
   "metadata": {},
   "outputs": [
    {
     "name": "stdout",
     "output_type": "stream",
     "text": [
      "Hex to ASM\n",
      "Processing file: ./kernels/mf_q64_erosion/instructions_hex.csv...\n",
      "Creating file: ./kernels/mf_q64_erosion/instructions_asm.csv\n",
      "ASM to Hex\n",
      "Processing file: ./kernels/mf_q64_erosion/instructions_asm.csv...\n",
      "Creating file: ./kernels/mf_q64_erosion/dsip_bitstream.h\n",
      "Creating file: ./kernels/mf_q64_erosion/instructions_hex_autogen.csv\n"
     ]
    }
   ],
   "source": [
    "# --------------------------------------------\n",
    "#               KERNEL CONFIGURATION\n",
    "# --------------------------------------------\n",
    "kernel_path = './kernels/mf_q64_erosion/' \n",
    "kernel_number = 1 # Kernel number (from 1 to 15)\n",
    "column_usage = [True, False] # Columns to use\n",
    "nInstrPerCol = 44 # Number of instructions per column\n",
    "imem_add_start = 0 # Start address on imem for this kernel\n",
    "srf_spm_addres = 0 # Line of the SPM with the initial data for the SRF\n",
    "version=\"\"\n",
    "\n",
    "sim = SIMULATOR()\n",
    "sim.kernel_config(column_usage, nInstrPerCol, imem_add_start, srf_spm_addres, kernel_number)\n",
    "sim.compileHexToAsm(kernel_path)\n",
    "sim.compileAsmToHex(kernel_path, kernel_number, version=version)"
   ]
  }
 ],
 "metadata": {
  "kernelspec": {
   "display_name": "base",
   "language": "python",
   "name": "python3"
  },
  "language_info": {
   "codemirror_mode": {
    "name": "ipython",
    "version": 3
   },
   "file_extension": ".py",
   "mimetype": "text/x-python",
   "name": "python",
   "nbconvert_exporter": "python",
   "pygments_lexer": "ipython3",
   "version": "3.11.4"
  }
 },
 "nbformat": 4,
 "nbformat_minor": 2
}
