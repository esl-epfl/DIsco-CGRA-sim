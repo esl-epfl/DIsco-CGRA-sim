{
 "cells": [
  {
   "cell_type": "markdown",
   "metadata": {},
   "source": [
    "# VWR2A Simulator\n",
    "This notebook illustrates how to use the simulator both for decoding existing hexadecimal VWR2A kernels to assembly, as well as writing your own kernels by writting your own assembly and generating it's bitstream. At the end, we develop a working kernel that adds two vectors together."
   ]
  },
  {
   "cell_type": "code",
   "execution_count": null,
   "metadata": {},
   "outputs": [],
   "source": [
    "# Imports\n",
    "import pandas as pd\n",
    "from random import randint\n",
    "from src import *\n",
    "from src.simulator import SIMULATOR"
   ]
  },
  {
   "cell_type": "markdown",
   "metadata": {},
   "source": [
    "## ISAs for specialized slots\n",
    "First, we set up objects for each specialized slot of the VWR2A (i.e. Load Store Unit, Reconfigurable Cells, etc.) and show some examples. For detailed descriptions of the assembly ISA ot the hexadecimal underlying, please visit the docs section."
   ]
  },
  {
   "cell_type": "markdown",
   "metadata": {},
   "source": [
    "### Loop Control Unit\n",
    "This unit is prepared to control the loops of the code."
   ]
  },
  {
   "cell_type": "code",
   "execution_count": null,
   "metadata": {},
   "outputs": [],
   "source": [
    "# --------------------------------------------\n",
    "#         Loop Control Unit (LCU)\n",
    "# --------------------------------------------\n",
    "lcu = LCU()\n",
    "\n",
    "instr_list = [\"NOP\", \"EXIT\", \"SADD R1, ZERO, LAST\", \"SADD R1, SRF(3), LAST\", \"SADD R1, 7, ONE\", \"SSUB SRF(4), SRF(4), SRF(4)\", \"JUMP 7, ONE\", \"BGEPD ZERO, ONE, 5\"]\n",
    "\n",
    "for instr in instr_list:\n",
    "    _, _, imem_word = lcu.asmToHex(instr)\n",
    "    print(\"ASM : \" + instr + \" --> Hex: \" + imem_word.get_word_in_hex())"
   ]
  },
  {
   "cell_type": "markdown",
   "metadata": {},
   "source": [
    "### Load-Store Unit\n",
    "This unit is prepared to control the movement of data between the SPM and the VWRs."
   ]
  },
  {
   "cell_type": "code",
   "execution_count": null,
   "metadata": {},
   "outputs": [],
   "source": [
    "# --------------------------------------------\n",
    "#             Load- Store Unit (LCU)\n",
    "# --------------------------------------------\n",
    "lsu = LSU()\n",
    "\n",
    "instr_list = [\"SADD R0, ONE, ONE/LD.VWR VWR_A\", \"SADD R0, SRF(5), ONE/SH.IL.UP\", \"SADD SRF(5), SRF(5), ONE/LD.VWR SRF\"]\n",
    "\n",
    "for instr in instr_list:\n",
    "    _, _, imem_word = lsu.asmToHex(instr)\n",
    "    print(\"ASM : \" + instr + \" --> Hex: \" + imem_word.get_word_in_hex())"
   ]
  },
  {
   "cell_type": "markdown",
   "metadata": {},
   "source": [
    "### Reconfigurable Cells\n",
    "This units are prepared to make the computations as an ALU would do on a CPU."
   ]
  },
  {
   "cell_type": "code",
   "execution_count": null,
   "metadata": {},
   "outputs": [],
   "source": [
    "# --------------------------------------------\n",
    "#         Reconfigurable Cells (RCs)\n",
    "# --------------------------------------------\n",
    "rc = RC()\n",
    "\n",
    "instr_list = [\"NOP\", \"SADD VWR_A, VWR_A, VWR_B\", \"SADD VWR_A, SRF(3), VWR_B\", \"LOR R0, RCB, MIN_INT\", \"MUL.FP R0, RCB, MIN_INT\"]\n",
    "\n",
    "for instr in instr_list:\n",
    "    _, _, _, imem_word = rc.asmToHex(instr)\n",
    "    print(\"ASM : \" + instr + \" --> Hex: \" + imem_word.get_word_in_hex())"
   ]
  },
  {
   "cell_type": "markdown",
   "metadata": {},
   "source": [
    "### Multiplexer Control Unit\n",
    "This unit is prepared to take care of all the indexes of the SRF and VWR that are accesed for loads or stores."
   ]
  },
  {
   "cell_type": "code",
   "execution_count": null,
   "metadata": {},
   "outputs": [],
   "source": [
    "# --------------------------------------------\n",
    "#      Multiplexer Control Unit (MXCU)\n",
    "# --------------------------------------------\n",
    "mxcu = MXCU()\n",
    "\n",
    "instr_list = [\"NOP\", \"SADD R1, ONE, LAST\", \"LOR R1, ONE, SRF(3)\"]\n",
    "\n",
    "for instr in instr_list:\n",
    "    imem_word = mxcu.asmToHex(instr, -1, 0, 0, [0,0,0,0], 0)\n",
    "    print(\"ASM : \" + instr + \" --> Hex: \" + imem_word.get_word_in_hex())"
   ]
  },
  {
   "cell_type": "markdown",
   "metadata": {},
   "source": [
    "## App Example\n",
    "Now, let's see an example of a real program that adds two vectors.\n",
    "For adding two vectors, you just need to add each element one by one until the end.\n",
    "Let's assume the vectors have 128 elements, so they fit in one line of the SPM.\n",
    "First, we store the values on the SPM."
   ]
  },
  {
   "cell_type": "markdown",
   "metadata": {},
   "source": [
    "## Generating code for kernels\n",
    "\n",
    "### Process an existing kernel\n",
    "\n",
    "Load an existing kernel (in the form of an excel sheet where each row is a clock cycle and each column is a specialized slot) and use the simulator to understand what is going on in each element at a given clock cycle. "
   ]
  },
  {
   "cell_type": "code",
   "execution_count": null,
   "metadata": {},
   "outputs": [],
   "source": [
    "kernel_path = \"kernels/mf_q64_erosion/\"\n",
    "df = pd.read_csv(kernel_path + \"instructions_hex.csv\")\n",
    "print(\"The instruction memory has {0} entries.\".format(len(df)))\n",
    "df.head()"
   ]
  },
  {
   "cell_type": "markdown",
   "metadata": {},
   "source": [
    "Let's generate the assembly for this hexadecimal instructions so we understand better what is going on."
   ]
  },
  {
   "cell_type": "code",
   "execution_count": null,
   "metadata": {},
   "outputs": [],
   "source": [
    "sim = SIMULATOR()\n",
    "sim.compileHexToAsm(kernel_path)"
   ]
  },
  {
   "cell_type": "code",
   "execution_count": null,
   "metadata": {},
   "outputs": [],
   "source": [
    "df = pd.read_csv(kernel_path + \"instructions_asm.csv\")\n",
    "print(\"The instruction memory has {0} entries.\".format(len(df)))\n",
    "df.head()"
   ]
  },
  {
   "cell_type": "markdown",
   "metadata": {},
   "source": [
    "For example, let's make sure that the last instruction of the LCU is an EXIT. For this we need to know some information about the kernel. In the hexadecimal it is provided as the KMEM column. And we also extract the kernel_number from which line has the instruction."
   ]
  },
  {
   "cell_type": "code",
   "execution_count": null,
   "metadata": {},
   "outputs": [],
   "source": [
    "kernel_number = 1 # Asign a number for the kernel (coherent with the KMEM)\n",
    "hex_word = \"0x802b\"\n",
    "nInstr, _, _, _ = KMEM_WORD(hex_word=hex_word).decode_word()\n",
    "print(\"Last instruction for LCU is: \" + df.iloc[nInstr]['LCU'])"
   ]
  },
  {
   "cell_type": "markdown",
   "metadata": {},
   "source": [
    "## Load a kernel\n",
    "\n",
    "To load a kernel into the IMEM of the VWR2A we need to know some info about it.\n",
    " - The kernel number\n",
    " - How many and which columns it uses\n",
    " - How many instructions per column it has\n",
    " - The position where it starts in the IMEM\n",
    " - The postition in the SPM where the SRF initial values are"
   ]
  },
  {
   "cell_type": "code",
   "execution_count": null,
   "metadata": {},
   "outputs": [],
   "source": [
    "kernel_path = \"kernels/add_vectors/\"\n",
    "kernel_number = 1 # Kernel number (from 1 to 15)\n",
    "column_usage = [True, False] # Columns to use\n",
    "nInstrPerCol = 37 # Number of instructions per column\n",
    "imem_add_start = 0 # Start address on imem for this kernel\n",
    "srf_spm_addres = 0 # Line of the SPM with the initial data for the SRF\n",
    "\n",
    "sim = SIMULATOR()\n",
    "sim.kernel_config(column_usage, nInstrPerCol, imem_add_start, srf_spm_addres, kernel_number)"
   ]
  },
  {
   "cell_type": "markdown",
   "metadata": {},
   "source": [
    "Now, let's generate assembly for it so we clearly see the adds."
   ]
  },
  {
   "cell_type": "code",
   "execution_count": null,
   "metadata": {},
   "outputs": [],
   "source": [
    "sim.compileHexToAsm(kernel_path)\n",
    "df = pd.read_csv(kernel_path + \"instructions_asm.csv\")\n",
    "print(\"The instruction memory has {0} entries.\".format(len(df)))\n",
    "df.head(10)"
   ]
  },
  {
   "cell_type": "markdown",
   "metadata": {},
   "source": [
    "We can see that the same action, adding two elements, is performed one and once again. Let's handle that with a loop.\n",
    "\n",
    "### Using loops\n",
    "It's your time to play. Try to use a loop to reduce the number of instructions.\n",
    "(You can think about it or check the solution in the provided assembly instructions version 2.)"
   ]
  },
  {
   "cell_type": "markdown",
   "metadata": {},
   "source": [
    "## Running code\n",
    "\n",
    "Now, let's run an application to see the outputs and check if the result is the expected.\n",
    "We will use, the vectors addition example once again. So, let's load it."
   ]
  },
  {
   "cell_type": "code",
   "execution_count": null,
   "metadata": {},
   "outputs": [],
   "source": [
    "sim = SIMULATOR()\n",
    "\n",
    "# --------------------------------------------\n",
    "#               KERNEL CONFIGURATION\n",
    "# --------------------------------------------\n",
    "kernel_path = './kernels/add_vectors/'\n",
    "kernel_number = 1 \n",
    "column_usage = [True, False] \n",
    "nInstrPerCol = 6 \n",
    "imem_add_start = 0 \n",
    "srf_spm_addres = 0 \n",
    "version=\"_v2\"\n",
    "\n",
    "sim.kernel_config(column_usage, nInstrPerCol, imem_add_start, srf_spm_addres, kernel_number)"
   ]
  },
  {
   "cell_type": "markdown",
   "metadata": {},
   "source": [
    "Now, we need to populate the SPM with the values of our vectors."
   ]
  },
  {
   "cell_type": "code",
   "execution_count": null,
   "metadata": {},
   "outputs": [],
   "source": [
    "# --------------------------------------------\n",
    "#                LOAD SPM DATA\n",
    "# --------------------------------------------\n",
    "# Load vector A\n",
    "vector_A = [i for i in range(SPM_NWORDS)]\n",
    "nline = 1\n",
    "sim.setSPMLine(nline, vector_A)\n",
    "# Load vector B\n",
    "vector_B = [i for i in range(SPM_NWORDS)]\n",
    "nline = 2\n",
    "sim.setSPMLine(nline, vector_B)\n",
    "\n",
    "sim.displaySPMLine(1)\n",
    "sim.displaySPMLine(2)"
   ]
  },
  {
   "cell_type": "markdown",
   "metadata": {},
   "source": [
    "Now, let's compile the assembly to hexadecimal since it's needed to run the code."
   ]
  },
  {
   "cell_type": "code",
   "execution_count": null,
   "metadata": {},
   "outputs": [],
   "source": [
    "# --------------------------------------------\n",
    "#              COMPILE ASM TO HEX\n",
    "# --------------------------------------------\n",
    "sim.compileAsmToHex(kernel_path, kernel_number, version=version)"
   ]
  },
  {
   "cell_type": "markdown",
   "metadata": {},
   "source": [
    "Finally, we load the kernel into the internal memory of the specialized units and run it."
   ]
  },
  {
   "cell_type": "code",
   "execution_count": null,
   "metadata": {},
   "outputs": [],
   "source": [
    "# --------------------------------------------\n",
    "#                 LOAD KERNEL\n",
    "# --------------------------------------------\n",
    "\n",
    "# This needs the hex instructions, if you don't provide them, generate then compiling the asm\n",
    "sim.kernel_load(kernel_path, version=version + \"_autogen\", kernel_number=kernel_number)\n",
    "\n",
    "# --------------------------------------------\n",
    "#               SIMULATE EXECUTION\n",
    "# --------------------------------------------\n",
    "show_lcu = []\n",
    "show_srf = []\n",
    "show_lsu = []\n",
    "show_rcs = [[],[],[],[]]\n",
    "show_mxcu = []\n",
    "display_ops = [show_lcu, show_lsu, show_mxcu, show_rcs, show_srf]\n",
    "\n",
    "sim.run(kernel_number, display_ops=display_ops)"
   ]
  },
  {
   "cell_type": "markdown",
   "metadata": {},
   "source": [
    "Let's check that we have the correct output in the SPM line just by looking at it."
   ]
  },
  {
   "cell_type": "code",
   "execution_count": null,
   "metadata": {},
   "outputs": [],
   "source": [
    "sim.displaySPMLine(1)\n",
    "sim.displaySPMLine(2)\n",
    "sim.displaySPMLine(3)"
   ]
  },
  {
   "cell_type": "markdown",
   "metadata": {},
   "source": [
    "We can check it more rigorously. We can define our function in python and check that the output matches the CGRA output."
   ]
  },
  {
   "cell_type": "code",
   "execution_count": null,
   "metadata": {},
   "outputs": [],
   "source": [
    "sim.displaySPMLine(3)\n",
    "vwr2a_res = sim.getSPMLine(3)\n",
    "errors_idx = []\n",
    "for i in range(len(vector_A)):\n",
    "    if vector_A[i] + vector_B[i] != vwr2a_res[i]:\n",
    "        errors_idx.append(i)\n",
    "if len(errors_idx) == 0:\n",
    "    print(\"The result is correct!\")\n",
    "else:\n",
    "    print(\"Oops, something went wrong. There are \" + str(len(errors_idx)) + \" errors.\")\n",
    "    print(errors_idx)\n"
   ]
  },
  {
   "cell_type": "markdown",
   "metadata": {},
   "source": [
    "Now it's your time to play!"
   ]
  },
  {
   "cell_type": "code",
   "execution_count": null,
   "metadata": {},
   "outputs": [],
   "source": [
    "#Let's do it!"
   ]
  },
  {
   "cell_type": "markdown",
   "metadata": {},
   "source": [
    "# Appendix\n",
    "For the rest of the examples, in order to run them some info for the kernel configuration is needed. It can be decoded from the hexadecimal words in the column KMEM."
   ]
  },
  {
   "cell_type": "markdown",
   "metadata": {},
   "source": [
    "### Exit"
   ]
  },
  {
   "cell_type": "code",
   "execution_count": null,
   "metadata": {},
   "outputs": [],
   "source": [
    "# --------------------------------------------\n",
    "#               KERNEL CONFIGURATION\n",
    "# --------------------------------------------\n",
    "kernel_path = './kernels/exit/' \n",
    "kernel_number = 1\n",
    "column_usage = [True, False] # Columns to use\n",
    "nInstrPerCol = 1 # Number of instructions per column\n",
    "imem_add_start = 0 # Start address on imem for this kernel\n",
    "srf_spm_addres = 0 # Line of the SPM with the initial data for the SRF\n",
    "version = \"\""
   ]
  },
  {
   "cell_type": "markdown",
   "metadata": {},
   "source": [
    "### FFT"
   ]
  },
  {
   "cell_type": "code",
   "execution_count": null,
   "metadata": {},
   "outputs": [],
   "source": [
    "# Add to KMEM the word and decode it\n",
    "kmem = KMEM()\n",
    "\n",
    "kmem_pos_1 = 1\n",
    "kmem_word_1 = 0x18026\n",
    "\n",
    "kmem_pos_2 = 2\n",
    "kmem_word_2 = 0x393b0\n",
    "\n",
    "kmem.imem.set_word(kmem_word_1, kmem_pos_1)\n",
    "kmem.imem.set_word(kmem_word_2, kmem_pos_2)\n",
    "print(\"Kernel 1\")\n",
    "kmem.imem.get_kernel_info(kmem_pos_1)\n",
    "print(\"Kernel 2\")\n",
    "kmem.imem.get_kernel_info(kmem_pos_2)"
   ]
  },
  {
   "cell_type": "code",
   "execution_count": null,
   "metadata": {},
   "outputs": [],
   "source": [
    "# --------------------------------------------\n",
    "#               KERNEL CONFIGURATION\n",
    "# --------------------------------------------\n",
    "kernel_path = './kernels/fft/' \n",
    "kernel_number = 1 # Kernel number (from 1 to 15)\n",
    "column_usage = [True, True] # Columns to use\n",
    "nInstrPerCol = 39 # Number of instructions per column\n",
    "imem_add_start = 0 # Start address on imem for this kernel\n",
    "srf_spm_addres = 0 # Line of the SPM with the initial data for the SRF\n",
    "version=\"\"\n",
    "\n",
    "sim = SIMULATOR()\n",
    "sim.kernel_config(column_usage, nInstrPerCol, imem_add_start, srf_spm_addres, kernel_number)\n",
    "sim.compileHexToAsm(kernel_path)\n",
    "sim.compileAsmToHex(kernel_path, kernel_number, version=version)"
   ]
  },
  {
   "cell_type": "markdown",
   "metadata": {},
   "source": [
    "### MF_Q64_EROSION"
   ]
  },
  {
   "cell_type": "code",
   "execution_count": null,
   "metadata": {},
   "outputs": [],
   "source": [
    "# --------------------------------------------\n",
    "#               KERNEL CONFIGURATION\n",
    "# --------------------------------------------\n",
    "kernel_path = './kernels/mf_q64_erosion/' \n",
    "kernel_number = 1 # Kernel number (from 1 to 15)\n",
    "column_usage = [True, False] # Columns to use\n",
    "nInstrPerCol = 44 # Number of instructions per column\n",
    "imem_add_start = 0 # Start address on imem for this kernel\n",
    "srf_spm_addres = 0 # Line of the SPM with the initial data for the SRF\n",
    "version=\"\"\n",
    "\n",
    "sim = SIMULATOR()\n",
    "sim.kernel_config(column_usage, nInstrPerCol, imem_add_start, srf_spm_addres, kernel_number)\n",
    "sim.compileHexToAsm(kernel_path)\n",
    "sim.compileAsmToHex(kernel_path, kernel_number, version=version)"
   ]
  }
 ],
 "metadata": {
  "kernelspec": {
   "display_name": "base",
   "language": "python",
   "name": "python3"
  },
  "language_info": {
   "codemirror_mode": {
    "name": "ipython",
    "version": 3
   },
   "file_extension": ".py",
   "mimetype": "text/x-python",
   "name": "python",
   "nbconvert_exporter": "python",
   "pygments_lexer": "ipython3",
   "version": "3.8.10"
  }
 },
 "nbformat": 4,
 "nbformat_minor": 2
}
