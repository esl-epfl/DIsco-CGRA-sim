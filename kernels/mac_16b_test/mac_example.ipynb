{
 "cells": [
  {
   "cell_type": "code",
   "execution_count": null,
   "metadata": {},
   "outputs": [],
   "source": [
    "# Imports\n",
    "import pandas as pd\n",
    "from random import randint\n",
    "from src import *\n",
    "from src.simulator import SIMULATOR"
   ]
  },
  {
   "cell_type": "code",
   "execution_count": null,
   "metadata": {},
   "outputs": [],
   "source": [
    "sim = SIMULATOR()\n",
    "\n",
    "# --------------------------------------------\n",
    "#               KERNEL CONFIGURATION\n",
    "# --------------------------------------------\n",
    "kernel_path = './kernels/mac_16b_test/'\n",
    "kernel_number = 1 \n",
    "column_usage = [True, False] \n",
    "nInstrPerCol = 8 \n",
    "imem_add_start = 0 \n",
    "srf_spm_addres = 0 \n",
    "version=\"\"\n",
    "\n",
    "sim.kernel_config(column_usage, nInstrPerCol, imem_add_start, srf_spm_addres, kernel_number)"
   ]
  },
  {
   "cell_type": "code",
   "execution_count": null,
   "metadata": {},
   "outputs": [],
   "source": [
    "# --------------------------------------------\n",
    "#                LOAD SPM DATA\n",
    "# --------------------------------------------\n",
    "# Load vector A\n",
    "vector_A = [randint(1, 1000) for i in range(SPM_NWORDS)]\n",
    "nline = 1\n",
    "sim.setSPMLine(nline, vector_A.copy())\n",
    "# Load vector B\n",
    "vector_B = [randint(1, 1000) for i in range(SPM_NWORDS)]\n",
    "nline = 2\n",
    "sim.setSPMLine(nline, vector_B.copy())\n",
    "# Load vector C\n",
    "vector_C = [randint(1, 1000) for i in range(SPM_NWORDS)]\n",
    "nline = 3\n",
    "sim.setSPMLine(nline, vector_C.copy())\n",
    "\n",
    "sim.displaySPMLine(1)\n",
    "sim.displaySPMLine(2)\n",
    "sim.displaySPMLine(3)"
   ]
  },
  {
   "cell_type": "code",
   "execution_count": null,
   "metadata": {},
   "outputs": [],
   "source": [
    "# --------------------------------------------\n",
    "#              COMPILE ASM TO HEX\n",
    "# --------------------------------------------\n",
    "sim.compileAsmToHex(kernel_path, kernel_number, version=version)"
   ]
  },
  {
   "cell_type": "code",
   "execution_count": null,
   "metadata": {},
   "outputs": [],
   "source": [
    "# --------------------------------------------\n",
    "#                 LOAD KERNEL\n",
    "# --------------------------------------------\n",
    "\n",
    "# This needs the hex instructions, if you don't provide them, generate then compiling the asm\n",
    "sim.kernel_load(kernel_path, version=version + \"_autogen\", kernel_number=kernel_number)\n",
    "\n",
    "# --------------------------------------------\n",
    "#               SIMULATE EXECUTION\n",
    "# --------------------------------------------\n",
    "show_lcu = []\n",
    "show_srf = []\n",
    "show_lsu = []\n",
    "show_rcs = [[],[],[],[]]\n",
    "show_mxcu = []\n",
    "display_ops = [show_lcu, show_lsu, show_mxcu, show_rcs, show_srf]\n",
    "\n",
    "sim.run(kernel_number, display_ops=display_ops)"
   ]
  },
  {
   "cell_type": "markdown",
   "metadata": {},
   "source": [
    "Let's check that we have the correct output in the SPM line just by looking at it."
   ]
  },
  {
   "cell_type": "code",
   "execution_count": null,
   "metadata": {},
   "outputs": [],
   "source": [
    "sim.displaySPMLine(1)\n",
    "sim.displaySPMLine(2)\n",
    "sim.displaySPMLine(3)"
   ]
  },
  {
   "cell_type": "markdown",
   "metadata": {},
   "source": [
    "We can check it more rigorously. We can define our function in python and check that the output matches the CGRA output."
   ]
  },
  {
   "cell_type": "code",
   "execution_count": null,
   "metadata": {},
   "outputs": [],
   "source": [
    "def mac32b (in_A, in_B, in_C, out):\n",
    "    for i in range(len(in_A)):\n",
    "        out[i] = in_A[i] * in_B[i] + in_C[i]\n",
    "\n",
    "def mac16b (in_A, in_B, in_C, out):\n",
    "    for i in range(len(in_A)):\n",
    "        val1_high = (in_A[i] >> 16) & 0xFFFF  \n",
    "        val1_low = in_A[i] & 0xFFFF           \n",
    "        val2_high = (in_B[i] >> 16) & 0xFFFF  \n",
    "        val2_low = in_B[i] & 0xFFFF\n",
    "        val3_high = (in_C[i] >> 16) & 0xFFFF  \n",
    "        val3_low = in_C[i] & 0xFFFF  \n",
    "\n",
    "        high_res = (val1_high * val2_high) & 0xFFFF\n",
    "        low_res = (val1_low * val2_low) & 0xFFFF\n",
    "\n",
    "        high_res = (high_res + val3_high) & 0xFFFF\n",
    "        low_res = (low_res + val3_low) & 0xFFFF\n",
    "\n",
    "        out[i] = (high_res << 16) | low_res\n",
    "        "
   ]
  },
  {
   "cell_type": "code",
   "execution_count": null,
   "metadata": {},
   "outputs": [],
   "source": [
    "sim.displaySPMLine(3)\n",
    "disco_cgra_res = sim.getSPMLine(3)\n",
    "expected_output = np.zeros(len(vector_A))\n",
    "mac16b(vector_A, vector_B, vector_C, expected_output)\n",
    "errors_idx = []\n",
    "for i in range(len(vector_A)):\n",
    "    if expected_output[i] != disco_cgra_res[i]:\n",
    "        if len(errors_idx) == 0:\n",
    "            print(\"Oops, something went wrong.\")\n",
    "        errors_idx.append(i)\n",
    "        if len(errors_idx) < 5:\n",
    "            print(\"CGRA[\" + str(i) + \"]: \" + str(disco_cgra_res[i]) + \" != \" + str(expected_output[i]))\n",
    "if len(errors_idx) == 0:\n",
    "    print(\"The result is correct!\")\n",
    "else:\n",
    "    print(\"There are \" + str(len(errors_idx)) + \" errors.\")\n"
   ]
  },
  {
   "cell_type": "markdown",
   "metadata": {},
   "source": [
    "Now it's your time to play!"
   ]
  },
  {
   "cell_type": "code",
   "execution_count": null,
   "metadata": {},
   "outputs": [],
   "source": [
    "#Let's do it!"
   ]
  }
 ],
 "metadata": {
  "kernelspec": {
   "display_name": "base",
   "language": "python",
   "name": "python3"
  },
  "language_info": {
   "codemirror_mode": {
    "name": "ipython",
    "version": 3
   },
   "file_extension": ".py",
   "mimetype": "text/x-python",
   "name": "python",
   "nbconvert_exporter": "python",
   "pygments_lexer": "ipython3",
   "version": "3.11.4"
  }
 },
 "nbformat": 4,
 "nbformat_minor": 2
}
